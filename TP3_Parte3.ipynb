{
 "cells": [
  {
   "cell_type": "code",
   "execution_count": 3,
   "metadata": {
    "colab": {
     "base_uri": "https://localhost:8080/"
    },
    "id": "x0l38L3710rN",
    "outputId": "f2fe315a-1505-4481-f7dd-fc5d5433a6f3"
   },
   "outputs": [
    {
     "name": "stderr",
     "output_type": "stream",
     "text": [
      "[nltk_data] Downloading package stopwords to\n",
      "[nltk_data]     C:\\Users\\igna-\\AppData\\Roaming\\nltk_data...\n",
      "[nltk_data]   Package stopwords is already up-to-date!\n"
     ]
    }
   ],
   "source": [
    "# importacion general de librerias y de visualizacion (matplotlib y seaborn)\n",
    "import pandas as pd\n",
    "import scipy \n",
    "import numpy as np\n",
    "import random as rd\n",
    "import nltk\n",
    "import pickle\n",
    "import sklearn\n",
    "from sklearn.neighbors import NearestNeighbors\n",
    "from collections import Counter\n",
    "import matplotlib.pyplot as plt\n",
    "import seaborn as sns\n",
    "from datetime import date\n",
    "from datetime import datetime\n",
    "from tqdm import tqdm\n",
    "\n",
    "%matplotlib inline\n",
    "nltk.download('stopwords')\n",
    "\n",
    "plt.style.use('default') # haciendo los graficos un poco mas bonitos en matplotlib\n",
    "#plt.rcParams['figure.figsize'] = (20, 10)\n",
    "\n",
    "sns.set(style=\"whitegrid\") # seteando tipo de grid en seaborn\n",
    "\n",
    "pd.options.display.float_format = '{:20,.2f}'.format # suprimimos la notacion cientifica en los outputs\n",
    "\n",
    "import warnings\n",
    "warnings.filterwarnings('ignore')"
   ]
  },
  {
   "cell_type": "code",
   "execution_count": 4,
   "metadata": {
    "id": "R8oTb5jTtsFM"
   },
   "outputs": [],
   "source": [
    "def timer(start_time=None):\n",
    "    if not start_time:\n",
    "        start_time = datetime.now()\n",
    "        return start_time\n",
    "    elif start_time:\n",
    "        thour, temp_sec = divmod((datetime.now() - start_time).total_seconds(), 3600)\n",
    "        tmin, tsec = divmod(temp_sec, 60)\n",
    "        print('\\n Time taken: %i hours %i minutes and %s seconds.' % (thour, tmin, round(tsec, 2)))"
   ]
  },
  {
   "cell_type": "markdown",
   "metadata": {
    "id": "fJtyNitMsn4P"
   },
   "source": [
    "# Parte 3"
   ]
  },
  {
   "cell_type": "code",
   "execution_count": 5,
   "metadata": {
    "id": "nSekryWPUGB1"
   },
   "outputs": [],
   "source": [
    "identity = pd.read_csv('train_identity.csv')\n",
    "transaction = pd.read_csv('train_transaction.csv')"
   ]
  },
  {
   "cell_type": "code",
   "execution_count": 6,
   "metadata": {
    "id": "EBP9dbd9UGB1"
   },
   "outputs": [],
   "source": [
    "mergeado = identity.merge(transaction, left_on='TransactionID', right_on='TransactionID',\n",
    "          how = 'right')\n",
    "mergeado.drop(['TransactionID'], axis=1, inplace= True)"
   ]
  },
  {
   "cell_type": "code",
   "execution_count": 7,
   "metadata": {
    "id": "jB5hhnm9UGB1"
   },
   "outputs": [],
   "source": [
    "import xgboost as xgb\n",
    "from sklearn.metrics import classification_report, accuracy_score, roc_auc_score, ConfusionMatrixDisplay, confusion_matrix\n",
    "from sklearn.model_selection import train_test_split\n",
    "from sklearn.preprocessing import OneHotEncoder\n",
    "from sklearn.feature_extraction.text import CountVectorizer"
   ]
  },
  {
   "cell_type": "markdown",
   "metadata": {
    "id": "DPyKJdMQUGB4"
   },
   "source": [
    "Spliteo el 20% con el delta tiempo mayor"
   ]
  },
  {
   "cell_type": "code",
   "execution_count": 8,
   "metadata": {
    "id": "0hmyZeDUUGB4"
   },
   "outputs": [],
   "source": [
    "test_lenght = int(144233*0.2)\n",
    "mergeado.sort_values(by = \"TransactionDT\")\n",
    "train_lenght = (144233- test_lenght)\n",
    "train = mergeado.iloc[0:train_lenght ,:]\n",
    "test = mergeado.iloc[(144233- test_lenght):144233,:]"
   ]
  },
  {
   "cell_type": "markdown",
   "metadata": {
    "id": "XsYI10NqUGB5"
   },
   "source": [
    "Encodeo el train set y el validation set"
   ]
  },
  {
   "cell_type": "markdown",
   "metadata": {},
   "source": [
    "Mean encoding en id_30 y OHE en las demas categoricas"
   ]
  },
  {
   "cell_type": "code",
   "execution_count": 9,
   "metadata": {},
   "outputs": [],
   "source": [
    "train[\"id_30\"].fillna(\"Desconocido\",inplace =True)\n",
    "mean_encoder_id_30 = train.groupby(['id_30'])['isFraud'].mean().to_dict()"
   ]
  },
  {
   "cell_type": "code",
   "execution_count": 10,
   "metadata": {
    "id": "HMNhBkK-c_ll"
   },
   "outputs": [],
   "source": [
    "train[\"id_31\"].fillna(\"Desconocido\",inplace =True)\n",
    "vec = CountVectorizer().fit(train[\"id_31\"])\n",
    "bag_of_words = vec.transform(train[\"id_31\"])\n",
    "sum_words = bag_of_words.sum(axis=0) \n",
    "words_freq = [(word, sum_words[0, idx]) for word, idx in vec.vocabulary_.items()]\n",
    "words_freq =sorted(words_freq, key = lambda x: x[1], reverse=True)\n",
    "filtro31 = list(filter(lambda c: c[0].isalpha() and c[1] > 2000, words_freq))\n"
   ]
  },
  {
   "cell_type": "code",
   "execution_count": 11,
   "metadata": {
    "id": "WzguETIRfDCP"
   },
   "outputs": [],
   "source": [
    "train[\"DeviceInfo\"].fillna(\"Desconocido\",inplace =True)\n",
    "vec = CountVectorizer().fit(train[\"DeviceInfo\"])\n",
    "bag_of_words = vec.transform(train[\"DeviceInfo\"])\n",
    "sum_words = bag_of_words.sum(axis=0) \n",
    "words_freq = [(word, sum_words[0, idx]) for word, idx in vec.vocabulary_.items()]\n",
    "words_freq =sorted(words_freq, key = lambda x: x[1], reverse=True)\n",
    "filtroDI = list(filter(lambda c: c[0].isalpha() and c[1] > 2000, words_freq))\n"
   ]
  },
  {
   "cell_type": "code",
   "execution_count": 12,
   "metadata": {
    "id": "ebVzXy6PbAT8"
   },
   "outputs": [],
   "source": [
    "def selector(x, vec):\n",
    "  for item in vec:\n",
    "    if x.find(item[0]):\n",
    "      return item[0]\n",
    "    else:\n",
    "      return 'other'"
   ]
  },
  {
   "cell_type": "code",
   "execution_count": 13,
   "metadata": {
    "id": "ESBZ2tcSUGB5"
   },
   "outputs": [],
   "source": [
    "train['id_30'] =  train['id_30'].map(mean_encoder_id_30)\n",
    "train['id_31'] = train['id_31'].map(lambda x: selector(x, filtro31))\n",
    "train['DeviceInfo'] = train['DeviceInfo'].map(lambda x: selector(x, filtroDI))\n",
    "\n",
    "X_cat = ['ProductCD','card4','id_34','id_15','id_23','id_31','DeviceType','DeviceInfo' ,'card6','P_emaildomain','R_emaildomain','M1','M2','M3','M4','M5','M6','M7','M8','M9']\n",
    "\n",
    "cont_df = train.drop(X_cat,axis =1)\n",
    "cont_df['id_12'] = cont_df['id_12'].replace('Found',1).replace('NotFound',0).astype(float)\n",
    "cont_df['id_13'] = cont_df['id_13'].astype(float).fillna(cont_df['id_13'].mean()) \n",
    "cont_df['id_16'] = cont_df['id_16'].replace('Found',1).replace('NotFound',0).astype(float)\n",
    "cont_df['id_27'] = cont_df['id_27'].replace('Found',1).replace('NotFound',0).astype(float)\n",
    "cont_df['id_28'] = cont_df['id_28'].replace('Found',1).replace('New',0).astype(float)\n",
    "cont_df['id_29'] = cont_df['id_29'].replace('Found',1).replace('NotFound',0).astype(float)\n",
    "cont_df['id_13'] = cont_df['id_13'].astype(float).fillna(cont_df['id_13'].mean()) \n",
    "cont_df['id_33'] = cont_df['id_33'].astype(str).map(lambda x : 'nan' if x.find('nan') != -1 else\n",
    "                                               int(x.split('x')[0])*int(x.split('x')[1])).astype(float)\n",
    "media = cont_df['id_33'].mean()\n",
    "cont_df['id_33'] = cont_df['id_33'] /media\n",
    "cont_df['id_35'] = cont_df['id_35'].replace('T',1).replace('F',0).astype(float)\n",
    "cont_df['id_36'] = cont_df['id_36'].replace('T',1).replace('F',0).astype(float)\n",
    "cont_df['id_37'] = cont_df['id_37'].replace('T',1).replace('F',0).astype(float)\n",
    "cont_df['id_38'] = cont_df['id_38'].replace('T',1).replace('F',0).astype(float)\n",
    "\n",
    "cont_df.apply(lambda x: x.fillna(x.mean(),inplace = True)) \n",
    "cont_df.apply(lambda x: x.fillna(0,inplace = True)) \n",
    "cat_df = train[X_cat].fillna('Others')"
   ]
  },
  {
   "cell_type": "code",
   "execution_count": 14,
   "metadata": {
    "id": "H5LKYnSKUGB6"
   },
   "outputs": [],
   "source": [
    "encoders = []\n",
    "for columna in X_cat:    \n",
    "    ohe = OneHotEncoder(handle_unknown = 'ignore')  # drop='first'\n",
    "    encoded_data = (ohe.fit_transform(cat_df[[columna]].astype(str)).todense().astype(int))\n",
    "    encoders.append(ohe)\n",
    "    encoded_data = pd.DataFrame(encoded_data, index = cont_df.index ).add_prefix(columna[0:8])\n",
    "    cont_df = pd.concat([cont_df, encoded_data], axis=1)\n",
    "train = cont_df"
   ]
  },
  {
   "cell_type": "code",
   "execution_count": 15,
   "metadata": {},
   "outputs": [],
   "source": [
    "prom_features = []\n",
    "for columna in train.drop(['isFraud'], axis=1).columns:\n",
    "  prom_features.append(train[columna].mean())"
   ]
  },
  {
   "cell_type": "code",
   "execution_count": 16,
   "metadata": {},
   "outputs": [],
   "source": [
    "test[\"id_30\"].fillna(\"Desconocido\",inplace =True)\n",
    "test[\"id_31\"].fillna(\"Desconocido\",inplace =True)\n",
    "test[\"DeviceInfo\"].fillna(\"Desconocido\",inplace =True)\n",
    "                          \n",
    "test['id_30'] =  test['id_30'].map(mean_encoder_id_30)\n",
    "test['id_31'] = test['id_31'].map(lambda x: selector(x, filtro31))\n",
    "test['DeviceInfo'] = test['DeviceInfo'].map(lambda x: selector(x, filtroDI))\n",
    "\n",
    "X_cat = ['ProductCD','card4','id_34','id_15','id_23','id_31','DeviceType','DeviceInfo' ,'card6','P_emaildomain','R_emaildomain','M1','M2','M3','M4','M5','M6','M7','M8','M9']\n",
    "\n",
    "cont_df = test.drop(X_cat,axis =1)\n",
    "cont_df['id_12'] = cont_df['id_12'].replace('Found',1).replace('NotFound',0).astype(float)\n",
    "cont_df['id_13'] = cont_df['id_13'].astype(float).fillna(cont_df['id_13'].mean()) \n",
    "cont_df['id_16'] = cont_df['id_16'].replace('Found',1).replace('NotFound',0).astype(float)\n",
    "cont_df['id_27'] = cont_df['id_27'].replace('Found',1).replace('NotFound',0).astype(float)\n",
    "cont_df['id_28'] = cont_df['id_28'].replace('Found',1).replace('New',0).astype(float)\n",
    "cont_df['id_29'] = cont_df['id_29'].replace('Found',1).replace('NotFound',0).astype(float)\n",
    "cont_df['id_13'] = cont_df['id_13'].astype(float).fillna(cont_df['id_13'].mean()) \n",
    "cont_df['id_33'] = cont_df['id_33'].astype(str).map(lambda x : 'nan' if x.find('nan') != -1 else\n",
    "                                               int(x.split('x')[0])*int(x.split('x')[1])).astype(float)\n",
    "media = cont_df['id_33'].mean()\n",
    "cont_df['id_33'] = cont_df['id_33'] /media\n",
    "cont_df['id_35'] = cont_df['id_35'].replace('T',1).replace('F',0).astype(float)\n",
    "cont_df['id_36'] = cont_df['id_36'].replace('T',1).replace('F',0).astype(float)\n",
    "cont_df['id_37'] = cont_df['id_37'].replace('T',1).replace('F',0).astype(float)\n",
    "cont_df['id_38'] = cont_df['id_38'].replace('T',1).replace('F',0).astype(float)\n",
    "\n",
    "cont_df.apply(lambda x: x.fillna(x.mean(),inplace = True)) \n",
    "cont_df.apply(lambda x: x.fillna(0,inplace = True)) \n",
    "cat_df = test[X_cat].fillna('Others')"
   ]
  },
  {
   "cell_type": "code",
   "execution_count": 17,
   "metadata": {
    "id": "wvSWGvvpUGB7"
   },
   "outputs": [],
   "source": [
    "cont = 0 \n",
    "for columna in X_cat:  \n",
    "    encoded_data = (encoders[cont].transform(cat_df[[columna]].astype(str)).todense().astype(int))\n",
    "    encoded_data = pd.DataFrame(encoded_data, index = cont_df.index ).add_prefix(columna[0:8])\n",
    "    cont_df = pd.concat([cont_df, encoded_data], axis=1)\n",
    "    cont += 1\n",
    "test = cont_df"
   ]
  },
  {
   "cell_type": "code",
   "execution_count": 18,
   "metadata": {
    "id": "93eIPrwjUGB7"
   },
   "outputs": [],
   "source": [
    "X_train = train.drop(['isFraud'], axis=1)\n",
    "y_train = train.loc[:, 'isFraud']"
   ]
  },
  {
   "cell_type": "code",
   "execution_count": 19,
   "metadata": {
    "id": "08LGDZQOUGB8"
   },
   "outputs": [],
   "source": [
    "X_test= test.drop(['isFraud'], axis=1)\n",
    "y_test = test.loc[:, 'isFraud']"
   ]
  },
  {
   "cell_type": "markdown",
   "metadata": {
    "id": "Sd-tFIXijw5C"
   },
   "source": [
    "Entreno un XGBoost buscando hiperparametros"
   ]
  },
  {
   "cell_type": "code",
   "execution_count": 45,
   "metadata": {
    "id": "rjtOIfiblewg"
   },
   "outputs": [],
   "source": [
    "from xgboost import XGBClassifier\n",
    "from sklearn.model_selection import train_test_split\n",
    "from sklearn.metrics import accuracy_score"
   ]
  },
  {
   "cell_type": "code",
   "execution_count": 18,
   "metadata": {
    "id": "oGkzdUV_7qQn"
   },
   "outputs": [],
   "source": [
    "from hyperopt.pyll.base import scope\n",
    "from hyperopt.pyll.stochastic import sample\n",
    "from hyperopt import STATUS_OK, Trials, fmin, hp, tpe\n",
    "\n",
    "\n",
    "space={'max_depth': hp.quniform(\"max_depth\", 3, 18, 1),\n",
    "        'gamma': hp.uniform ('gamma', 0,9),\n",
    "        'reg_alpha' : hp.quniform('reg_alpha', 0,15,1),\n",
    "        'reg_lambda' : hp.uniform('reg_lambda', 0,1),\n",
    "        'n_estimators': hp.quniform('n_estimators', 150,301,10),\n",
    "        'seed': 0\n",
    "    }"
   ]
  },
  {
   "cell_type": "code",
   "execution_count": 19,
   "metadata": {
    "id": "vXvM7K7f7tnM"
   },
   "outputs": [],
   "source": [
    "def objective(space):\n",
    "    clf=xgb.XGBClassifier(\n",
    "                    n_estimators = int(space['n_estimators']), max_depth = int(space['max_depth']), gamma = space['gamma'],\n",
    "                    reg_alpha = int(space['reg_alpha']))\n",
    "    \n",
    "    evaluation = [( X_train, y_train), ( X_test, y_test)]\n",
    "    \n",
    "    clf.fit(X_train, y_train,\n",
    "            eval_set=evaluation, eval_metric=\"auc\",\n",
    "            early_stopping_rounds=10,verbose=False)\n",
    "    \n",
    "    accuracy = roc_auc_score(y_test, clf.predict_proba(X_test)[:,1])\n",
    "    print (\"SCORE:\", accuracy)\n",
    "    return {'loss': -accuracy, 'status': STATUS_OK }"
   ]
  },
  {
   "cell_type": "code",
   "execution_count": 20,
   "metadata": {
    "colab": {
     "base_uri": "https://localhost:8080/"
    },
    "id": "tLgFt-Cq8wwX",
    "outputId": "826796b4-01e4-4f35-ee35-482bd2d7227e"
   },
   "outputs": [
    {
     "name": "stdout",
     "output_type": "stream",
     "text": [
      "SCORE:                                                                                                                 \n",
      "0.8976657584994042                                                                                                     \n",
      "SCORE:                                                                                                                 \n",
      "0.8943960893452385                                                                                                     \n",
      "SCORE:                                                                                                                 \n",
      "0.894120445456337                                                                                                      \n",
      "SCORE:                                                                                                                 \n",
      "0.8901251868502503                                                                                                     \n",
      "SCORE:                                                                                                                 \n",
      "0.8937695187793107                                                                                                     \n",
      "SCORE:                                                                                                                 \n",
      "0.887693476505407                                                                                                      \n",
      "SCORE:                                                                                                                 \n",
      "0.8919577384412398                                                                                                     \n",
      "SCORE:                                                                                                                 \n",
      "0.8839821148069108                                                                                                     \n",
      "SCORE:                                                                                                                 \n",
      "0.8955052707834503                                                                                                     \n",
      "SCORE:                                                                                                                 \n",
      "0.9021301388001699                                                                                                     \n",
      "SCORE:                                                                                                                 \n",
      "0.8869523172829341                                                                                                     \n",
      "SCORE:                                                                                                                 \n",
      "0.8921936603431322                                                                                                     \n",
      "SCORE:                                                                                                                 \n",
      "0.8927737990097973                                                                                                     \n",
      "SCORE:                                                                                                                 \n",
      "0.8886693612888275                                                                                                     \n",
      "SCORE:                                                                                                                 \n",
      "0.8944110696144555                                                                                                     \n",
      "SCORE:                                                                                                                 \n",
      "0.8895900930208833                                                                                                     \n",
      "SCORE:                                                                                                                 \n",
      "0.8910155245870084                                                                                                     \n",
      "SCORE:                                                                                                                 \n",
      "0.8956887444048087                                                                                                     \n",
      "SCORE:                                                                                                                 \n",
      "0.8916392690141834                                                                                                     \n",
      "SCORE:                                                                                                                 \n",
      "0.8934193549863646                                                                                                     \n",
      "SCORE:                                                                                                                 \n",
      "0.8965510808281578                                                                                                     \n",
      "SCORE:                                                                                                                 \n",
      "0.8933005878056516                                                                                                     \n",
      "SCORE:                                                                                                                 \n",
      "0.8942742012751052                                                                                                     \n",
      "SCORE:                                                                                                                 \n",
      "0.8937000963279857                                                                                                     \n",
      "SCORE:                                                                                                                 \n",
      "0.898172746985715                                                                                                      \n",
      "SCORE:                                                                                                                 \n",
      "0.8861150693428685                                                                                                     \n",
      "SCORE:                                                                                                                 \n",
      "0.8953829319181787                                                                                                     \n",
      "SCORE:                                                                                                                 \n",
      "0.8914231127452859                                                                                                     \n",
      "SCORE:                                                                                                                 \n",
      "0.8938396347616177                                                                                                     \n",
      "SCORE:                                                                                                                 \n",
      "0.8921443329520184                                                                                                     \n",
      "SCORE:                                                                                                                 \n",
      "0.897278144033416                                                                                                      \n",
      "SCORE:                                                                                                                 \n",
      "0.8987075980792382                                                                                                     \n",
      "SCORE:                                                                                                                 \n",
      "0.8953923292629885                                                                                                     \n",
      "SCORE:                                                                                                                 \n",
      "0.8906222231669656                                                                                                     \n",
      "SCORE:                                                                                                                 \n",
      "0.8938631454619164                                                                                                     \n",
      "SCORE:                                                                                                                 \n",
      "0.8931070926615995                                                                                                     \n",
      "SCORE:                                                                                                                 \n",
      "0.8935386249770398                                                                                                     \n",
      "SCORE:                                                                                                                 \n",
      "0.89441675656851                                                                                                       \n",
      "SCORE:                                                                                                                 \n",
      "0.8806820343191726                                                                                                     \n",
      "SCORE:                                                                                                                 \n",
      "0.8923741517812667                                                                                                     \n",
      "SCORE:                                                                                                                 \n",
      "0.8947008095205713                                                                                                     \n",
      "SCORE:                                                                                                                 \n",
      "0.8991267682049195                                                                                                     \n",
      "SCORE:                                                                                                                 \n",
      "0.8893401617931493                                                                                                     \n",
      "SCORE:                                                                                                                 \n",
      "0.8924183817196607                                                                                                     \n",
      "SCORE:                                                                                                                 \n",
      "0.8955579097850043                                                                                                     \n",
      "SCORE:                                                                                                                 \n",
      "0.9010979393009895                                                                                                     \n",
      "SCORE:                                                                                                                 \n",
      "0.8869295521284414                                                                                                     \n",
      "SCORE:                                                                                                                 \n",
      "0.8876808369032552                                                                                                     \n",
      "SCORE:                                                                                                                 \n",
      "0.8984910430300257                                                                                                     \n",
      "SCORE:                                                                                                                 \n",
      "0.8911540227241668                                                                                                     \n",
      "SCORE:                                                                                                                 \n",
      "0.9005645272842545                                                                                                     \n",
      "SCORE:                                                                                                                 \n",
      "0.8868727346027192                                                                                                     \n",
      "SCORE:                                                                                                                 \n",
      "0.8932185430904496                                                                                                     \n",
      "SCORE:                                                                                                                 \n",
      "0.8971491472707147                                                                                                     \n",
      "SCORE:                                                                                                                 \n",
      "0.8954173830697228                                                                                                     \n",
      "SCORE:                                                                                                                 \n",
      "0.8874076897258898                                                                                                     \n",
      "SCORE:                                                                                                                 \n",
      "0.8974935547565076                                                                                                     \n",
      "SCORE:                                                                                                                 \n",
      "0.8941468343102121                                                                                                     \n",
      "SCORE:                                                                                                                 \n",
      "0.8925140543186643                                                                                                     \n",
      "SCORE:                                                                                                                 \n",
      "0.8947642502671743                                                                                                     \n",
      "SCORE:                                                                                                                 \n",
      "0.8949305416584469                                                                                                     \n",
      "SCORE:                                                                                                                 \n",
      "0.8985244538850964                                                                                                     \n",
      "SCORE:                                                                                                                 \n",
      "0.8964287246246117                                                                                                     \n",
      "SCORE:                                                                                                                 \n",
      "0.8949382225140753                                                                                                     \n",
      "SCORE:                                                                                                                 \n",
      "0.8975101301469839                                                                                                     \n",
      "SCORE:                                                                                                                 \n",
      "0.8916843832045798                                                                                                     \n",
      "SCORE:                                                                                                                 \n",
      "0.8913307690949972                                                                                                     \n",
      "SCORE:                                                                                                                 \n",
      "0.8917944639097399                                                                                                     \n",
      "SCORE:                                                                                                                 \n",
      "0.8924053433371941                                                                                                     \n",
      "SCORE:                                                                                                                 \n",
      "0.8925789861568789                                                                                                     \n",
      "SCORE:                                                                                                                 \n",
      "0.889033846496557                                                                                                      \n",
      "SCORE:                                                                                                                 \n",
      "0.8977656616373997                                                                                                     \n",
      "SCORE:                                                                                                                 \n",
      "0.8894277200796603                                                                                                     \n",
      "SCORE:                                                                                                                 \n",
      "0.892151857763176                                                                                                      \n",
      "SCORE:                                                                                                                 \n",
      "0.8890138381277188                                                                                                     \n",
      "SCORE:                                                                                                                 \n",
      "0.8949420369344779                                                                                                     \n",
      "SCORE:                                                                                                                 \n",
      "0.8943340356606003                                                                                                     \n",
      "SCORE:                                                                                                                 \n",
      "0.8970621091324402                                                                                                     \n",
      "SCORE:                                                                                                                 \n",
      "0.8859376814558796                                                                                                     \n",
      "SCORE:                                                                                                                 \n",
      "0.8933573013017265                                                                                                     \n",
      "SCORE:                                                                                                                 \n",
      "0.8903713209958564                                                                                                     \n",
      "SCORE:                                                                                                                 \n",
      "0.8904298723490341                                                                                                     \n",
      "SCORE:                                                                                                                 \n",
      "0.8913836161558458                                                                                                     \n",
      "SCORE:                                                                                                                 \n",
      "0.8922448429296232                                                                                                     \n",
      "SCORE:                                                                                                                 \n",
      "0.8983390383769878                                                                                                     \n",
      "SCORE:                                                                                                                 \n",
      "0.8893008559247293                                                                                                     \n",
      "SCORE:                                                                                                                 \n",
      "0.9018192808756439                                                                                                     \n",
      "SCORE:                                                                                                                 \n",
      "0.8950004495814594                                                                                                     \n",
      "SCORE:                                                                                                                 \n",
      "0.8890206867461687                                                                                                     \n",
      "SCORE:                                                                                                                 \n",
      "0.8832502142230513                                                                                                     \n",
      "SCORE:                                                                                                                 \n",
      "0.8894859593438961                                                                                                     \n",
      "SCORE:                                                                                                                 \n",
      "0.8896254804392534                                                                                                     \n",
      "SCORE:                                                                                                                 \n",
      "0.8940370830322686                                                                                                     \n",
      "SCORE:                                                                                                                 \n",
      "0.9000971914318547                                                                                                     \n",
      "SCORE:                                                                                                                 \n",
      "0.9019276797681721                                                                                                     \n",
      "SCORE:                                                                                                                 \n",
      "0.8934360170682136                                                                                                     \n",
      "SCORE:                                                                                                                 \n",
      "0.8951433169638059                                                                                                     \n",
      "SCORE:                                                                                                                 \n",
      "0.8930396641118488                                                                                                     \n",
      "SCORE:                                                                                                                 \n",
      "0.9019594434871597                                                                                                     \n",
      "SCORE:                                                                                                                 \n",
      "0.8951504776711979                                                                                                     \n",
      "100%|██████████████████████████████████████████| 100/100 [3:29:45<00:00, 125.86s/trial, best loss: -0.9021301388001699]\n"
     ]
    }
   ],
   "source": [
    "trials = Trials()\n",
    "rstate = np.random.default_rng(int(2020))\n",
    "\n",
    "best_hyperparams = fmin(fn = objective,\n",
    "                        space = space,\n",
    "                        algo = tpe.suggest,\n",
    "                        max_evals = 100,\n",
    "                        rstate = rstate,\n",
    "                        trials = trials\n",
    "                        )"
   ]
  },
  {
   "cell_type": "code",
   "execution_count": 21,
   "metadata": {
    "colab": {
     "base_uri": "https://localhost:8080/"
    },
    "id": "zSTj3XCWWbPT",
    "outputId": "eba4f86d-96e8-4c1e-ed9f-1b825cd60364"
   },
   "outputs": [
    {
     "data": {
      "text/plain": [
       "{'gamma': 2.234933278169852,\n",
       " 'max_depth': 11.0,\n",
       " 'n_estimators': 240.0,\n",
       " 'reg_alpha': 1.0,\n",
       " 'reg_lambda': 0.5653589408911716}"
      ]
     },
     "execution_count": 21,
     "metadata": {},
     "output_type": "execute_result"
    }
   ],
   "source": [
    "best_hyperparams"
   ]
  },
  {
   "cell_type": "code",
   "execution_count": 46,
   "metadata": {
    "colab": {
     "base_uri": "https://localhost:8080/"
    },
    "id": "5rX7O1nWoz76",
    "outputId": "7836b1a2-8991-48f9-bff7-6ca873c1cfb5"
   },
   "outputs": [
    {
     "name": "stdout",
     "output_type": "stream",
     "text": [
      "[23:08:37] WARNING: C:/Users/Administrator/workspace/xgboost-win64_release_1.5.1/src/learner.cc:1115: Starting in XGBoost 1.3.0, the default evaluation metric used with the objective 'binary:logistic' was changed from 'error' to 'logloss'. Explicitly set eval_metric if you'd like to restore the old behavior.\n"
     ]
    },
    {
     "ename": "KeyboardInterrupt",
     "evalue": "",
     "output_type": "error",
     "traceback": [
      "\u001b[1;31m---------------------------------------------------------------------------\u001b[0m",
      "\u001b[1;31mKeyboardInterrupt\u001b[0m                         Traceback (most recent call last)",
      "\u001b[1;32m<ipython-input-46-5622742d1be9>\u001b[0m in \u001b[0;36m<module>\u001b[1;34m\u001b[0m\n\u001b[0;32m      5\u001b[0m                       \u001b[0mreg_lambda\u001b[0m\u001b[1;33m=\u001b[0m \u001b[1;36m0.06118423963716291\u001b[0m\u001b[1;33m,\u001b[0m\u001b[1;33m\u001b[0m\u001b[1;33m\u001b[0m\u001b[0m\n\u001b[0;32m      6\u001b[0m                       random_state = 1)\n\u001b[1;32m----> 7\u001b[1;33m \u001b[0mmodel\u001b[0m\u001b[1;33m.\u001b[0m\u001b[0mfit\u001b[0m\u001b[1;33m(\u001b[0m\u001b[0mX_train\u001b[0m\u001b[1;33m,\u001b[0m\u001b[0my_train\u001b[0m\u001b[1;33m)\u001b[0m\u001b[1;33m\u001b[0m\u001b[1;33m\u001b[0m\u001b[0m\n\u001b[0m",
      "\u001b[1;32m~\\anaconda3\\lib\\site-packages\\xgboost\\core.py\u001b[0m in \u001b[0;36minner_f\u001b[1;34m(*args, **kwargs)\u001b[0m\n\u001b[0;32m    504\u001b[0m         \u001b[1;32mfor\u001b[0m \u001b[0mk\u001b[0m\u001b[1;33m,\u001b[0m \u001b[0marg\u001b[0m \u001b[1;32min\u001b[0m \u001b[0mzip\u001b[0m\u001b[1;33m(\u001b[0m\u001b[0msig\u001b[0m\u001b[1;33m.\u001b[0m\u001b[0mparameters\u001b[0m\u001b[1;33m,\u001b[0m \u001b[0margs\u001b[0m\u001b[1;33m)\u001b[0m\u001b[1;33m:\u001b[0m\u001b[1;33m\u001b[0m\u001b[1;33m\u001b[0m\u001b[0m\n\u001b[0;32m    505\u001b[0m             \u001b[0mkwargs\u001b[0m\u001b[1;33m[\u001b[0m\u001b[0mk\u001b[0m\u001b[1;33m]\u001b[0m \u001b[1;33m=\u001b[0m \u001b[0marg\u001b[0m\u001b[1;33m\u001b[0m\u001b[1;33m\u001b[0m\u001b[0m\n\u001b[1;32m--> 506\u001b[1;33m         \u001b[1;32mreturn\u001b[0m \u001b[0mf\u001b[0m\u001b[1;33m(\u001b[0m\u001b[1;33m**\u001b[0m\u001b[0mkwargs\u001b[0m\u001b[1;33m)\u001b[0m\u001b[1;33m\u001b[0m\u001b[1;33m\u001b[0m\u001b[0m\n\u001b[0m\u001b[0;32m    507\u001b[0m \u001b[1;33m\u001b[0m\u001b[0m\n\u001b[0;32m    508\u001b[0m     \u001b[1;32mreturn\u001b[0m \u001b[0minner_f\u001b[0m\u001b[1;33m\u001b[0m\u001b[1;33m\u001b[0m\u001b[0m\n",
      "\u001b[1;32m~\\anaconda3\\lib\\site-packages\\xgboost\\sklearn.py\u001b[0m in \u001b[0;36mfit\u001b[1;34m(self, X, y, sample_weight, base_margin, eval_set, eval_metric, early_stopping_rounds, verbose, xgb_model, sample_weight_eval_set, base_margin_eval_set, feature_weights, callbacks)\u001b[0m\n\u001b[0;32m   1248\u001b[0m         )\n\u001b[0;32m   1249\u001b[0m \u001b[1;33m\u001b[0m\u001b[0m\n\u001b[1;32m-> 1250\u001b[1;33m         self._Booster = train(\n\u001b[0m\u001b[0;32m   1251\u001b[0m             \u001b[0mparams\u001b[0m\u001b[1;33m,\u001b[0m\u001b[1;33m\u001b[0m\u001b[1;33m\u001b[0m\u001b[0m\n\u001b[0;32m   1252\u001b[0m             \u001b[0mtrain_dmatrix\u001b[0m\u001b[1;33m,\u001b[0m\u001b[1;33m\u001b[0m\u001b[1;33m\u001b[0m\u001b[0m\n",
      "\u001b[1;32m~\\anaconda3\\lib\\site-packages\\xgboost\\training.py\u001b[0m in \u001b[0;36mtrain\u001b[1;34m(params, dtrain, num_boost_round, evals, obj, feval, maximize, early_stopping_rounds, evals_result, verbose_eval, xgb_model, callbacks)\u001b[0m\n\u001b[0;32m    186\u001b[0m     \u001b[0mBooster\u001b[0m \u001b[1;33m:\u001b[0m \u001b[0ma\u001b[0m \u001b[0mtrained\u001b[0m \u001b[0mbooster\u001b[0m \u001b[0mmodel\u001b[0m\u001b[1;33m\u001b[0m\u001b[1;33m\u001b[0m\u001b[0m\n\u001b[0;32m    187\u001b[0m     \"\"\"\n\u001b[1;32m--> 188\u001b[1;33m     bst = _train_internal(params, dtrain,\n\u001b[0m\u001b[0;32m    189\u001b[0m                           \u001b[0mnum_boost_round\u001b[0m\u001b[1;33m=\u001b[0m\u001b[0mnum_boost_round\u001b[0m\u001b[1;33m,\u001b[0m\u001b[1;33m\u001b[0m\u001b[1;33m\u001b[0m\u001b[0m\n\u001b[0;32m    190\u001b[0m                           \u001b[0mevals\u001b[0m\u001b[1;33m=\u001b[0m\u001b[0mevals\u001b[0m\u001b[1;33m,\u001b[0m\u001b[1;33m\u001b[0m\u001b[1;33m\u001b[0m\u001b[0m\n",
      "\u001b[1;32m~\\anaconda3\\lib\\site-packages\\xgboost\\training.py\u001b[0m in \u001b[0;36m_train_internal\u001b[1;34m(params, dtrain, num_boost_round, evals, obj, feval, xgb_model, callbacks, evals_result, maximize, verbose_eval, early_stopping_rounds)\u001b[0m\n\u001b[0;32m     79\u001b[0m         \u001b[1;32mif\u001b[0m \u001b[0mcallbacks\u001b[0m\u001b[1;33m.\u001b[0m\u001b[0mbefore_iteration\u001b[0m\u001b[1;33m(\u001b[0m\u001b[0mbst\u001b[0m\u001b[1;33m,\u001b[0m \u001b[0mi\u001b[0m\u001b[1;33m,\u001b[0m \u001b[0mdtrain\u001b[0m\u001b[1;33m,\u001b[0m \u001b[0mevals\u001b[0m\u001b[1;33m)\u001b[0m\u001b[1;33m:\u001b[0m\u001b[1;33m\u001b[0m\u001b[1;33m\u001b[0m\u001b[0m\n\u001b[0;32m     80\u001b[0m             \u001b[1;32mbreak\u001b[0m\u001b[1;33m\u001b[0m\u001b[1;33m\u001b[0m\u001b[0m\n\u001b[1;32m---> 81\u001b[1;33m         \u001b[0mbst\u001b[0m\u001b[1;33m.\u001b[0m\u001b[0mupdate\u001b[0m\u001b[1;33m(\u001b[0m\u001b[0mdtrain\u001b[0m\u001b[1;33m,\u001b[0m \u001b[0mi\u001b[0m\u001b[1;33m,\u001b[0m \u001b[0mobj\u001b[0m\u001b[1;33m)\u001b[0m\u001b[1;33m\u001b[0m\u001b[1;33m\u001b[0m\u001b[0m\n\u001b[0m\u001b[0;32m     82\u001b[0m         \u001b[1;32mif\u001b[0m \u001b[0mcallbacks\u001b[0m\u001b[1;33m.\u001b[0m\u001b[0mafter_iteration\u001b[0m\u001b[1;33m(\u001b[0m\u001b[0mbst\u001b[0m\u001b[1;33m,\u001b[0m \u001b[0mi\u001b[0m\u001b[1;33m,\u001b[0m \u001b[0mdtrain\u001b[0m\u001b[1;33m,\u001b[0m \u001b[0mevals\u001b[0m\u001b[1;33m)\u001b[0m\u001b[1;33m:\u001b[0m\u001b[1;33m\u001b[0m\u001b[1;33m\u001b[0m\u001b[0m\n\u001b[0;32m     83\u001b[0m             \u001b[1;32mbreak\u001b[0m\u001b[1;33m\u001b[0m\u001b[1;33m\u001b[0m\u001b[0m\n",
      "\u001b[1;32m~\\anaconda3\\lib\\site-packages\\xgboost\\core.py\u001b[0m in \u001b[0;36mupdate\u001b[1;34m(self, dtrain, iteration, fobj)\u001b[0m\n\u001b[0;32m   1678\u001b[0m \u001b[1;33m\u001b[0m\u001b[0m\n\u001b[0;32m   1679\u001b[0m         \u001b[1;32mif\u001b[0m \u001b[0mfobj\u001b[0m \u001b[1;32mis\u001b[0m \u001b[1;32mNone\u001b[0m\u001b[1;33m:\u001b[0m\u001b[1;33m\u001b[0m\u001b[1;33m\u001b[0m\u001b[0m\n\u001b[1;32m-> 1680\u001b[1;33m             _check_call(_LIB.XGBoosterUpdateOneIter(self.handle,\n\u001b[0m\u001b[0;32m   1681\u001b[0m                                                     \u001b[0mctypes\u001b[0m\u001b[1;33m.\u001b[0m\u001b[0mc_int\u001b[0m\u001b[1;33m(\u001b[0m\u001b[0miteration\u001b[0m\u001b[1;33m)\u001b[0m\u001b[1;33m,\u001b[0m\u001b[1;33m\u001b[0m\u001b[1;33m\u001b[0m\u001b[0m\n\u001b[0;32m   1682\u001b[0m                                                     dtrain.handle))\n",
      "\u001b[1;31mKeyboardInterrupt\u001b[0m: "
     ]
    }
   ],
   "source": [
    "model = XGBClassifier(gamma = 3.807233425619809,\n",
    "                      max_depth= 8,\n",
    "                      n_estimators= 220,\n",
    "                      reg_alpha= 5,\n",
    "                      reg_lambda= 0.06118423963716291, \n",
    "                      random_state = 1)\n",
    "model.fit(X_train,y_train)"
   ]
  },
  {
   "cell_type": "code",
   "execution_count": 23,
   "metadata": {
    "colab": {
     "base_uri": "https://localhost:8080/"
    },
    "id": "QDTWp8f0w9lE",
    "outputId": "d866b1a1-3161-49dd-eb1e-e62e8ddff067"
   },
   "outputs": [
    {
     "name": "stdout",
     "output_type": "stream",
     "text": [
      "              precision    recall  f1-score   support\n",
      "\n",
      "           0       0.99      1.00      1.00    112635\n",
      "           1       0.98      0.61      0.75      2752\n",
      "\n",
      "    accuracy                           0.99    115387\n",
      "   macro avg       0.99      0.80      0.87    115387\n",
      "weighted avg       0.99      0.99      0.99    115387\n",
      "\n"
     ]
    }
   ],
   "source": [
    "print(classification_report(y_train, model.predict(X_train)))"
   ]
  },
  {
   "cell_type": "code",
   "execution_count": 24,
   "metadata": {
    "colab": {
     "base_uri": "https://localhost:8080/"
    },
    "id": "t9oV4mnNxCUW",
    "outputId": "78e186f0-7c0c-48e3-c3e8-2a0bec396b5b"
   },
   "outputs": [
    {
     "data": {
      "text/plain": [
       "0.885855896814796"
      ]
     },
     "execution_count": 24,
     "metadata": {},
     "output_type": "execute_result"
    }
   ],
   "source": [
    "roc_auc_score(y_test, model.predict_proba(X_test)[:,1])"
   ]
  },
  {
   "cell_type": "code",
   "execution_count": 25,
   "metadata": {
    "id": "BBCDuSbK9bAu"
   },
   "outputs": [],
   "source": [
    "with open('xgboostmodel', 'wb') as xgboostmodel:\n",
    "    pickle.dump(model, xgboostmodel)\n",
    "    xgboostmodel.close()"
   ]
  },
  {
   "cell_type": "markdown",
   "metadata": {},
   "source": [
    "## Entreno un RandomForest"
   ]
  },
  {
   "cell_type": "code",
   "execution_count": 20,
   "metadata": {},
   "outputs": [],
   "source": [
    "from sklearn.ensemble import RandomForestClassifier"
   ]
  },
  {
   "cell_type": "code",
   "execution_count": 21,
   "metadata": {},
   "outputs": [],
   "source": [
    "from sklearn.model_selection import RandomizedSearchCV# Number of trees in random forest\n",
    "n_estimators = [int(x) for x in np.linspace(start = 10, stop = 50, num = 10)]\n",
    "max_features = ['auto', 'sqrt']\n",
    "max_depth = [int(x) for x in np.linspace(10, 60, num = 11)]\n",
    "max_depth.append(None)\n",
    "min_samples_split = [2, 5, 10]\n",
    "min_samples_leaf = [1, 2, 4]\n",
    "bootstrap = [True, False]\n",
    "random_grid = {'n_estimators': n_estimators,\n",
    "               'max_features': max_features,\n",
    "               'max_depth': max_depth,\n",
    "               'min_samples_split': min_samples_split,\n",
    "               'min_samples_leaf': min_samples_leaf,\n",
    "               'bootstrap': bootstrap}"
   ]
  },
  {
   "cell_type": "code",
   "execution_count": 22,
   "metadata": {},
   "outputs": [],
   "source": [
    "rf = RandomForestClassifier()\n",
    "rf_random = RandomizedSearchCV(estimator = rf, param_distributions = random_grid, n_iter = 2, cv = 3, verbose=2, random_state=42, n_jobs = -1)"
   ]
  },
  {
   "cell_type": "code",
   "execution_count": 23,
   "metadata": {},
   "outputs": [
    {
     "name": "stdout",
     "output_type": "stream",
     "text": [
      "Fitting 3 folds for each of 2 candidates, totalling 6 fits\n"
     ]
    },
    {
     "name": "stderr",
     "output_type": "stream",
     "text": [
      "[Parallel(n_jobs=-1)]: Using backend LokyBackend with 8 concurrent workers.\n",
      "[Parallel(n_jobs=-1)]: Done   3 out of   6 | elapsed:  1.3min remaining:  1.3min\n",
      "[Parallel(n_jobs=-1)]: Done   6 out of   6 | elapsed:  1.5min finished\n"
     ]
    },
    {
     "data": {
      "text/plain": [
       "RandomizedSearchCV(cv=3, estimator=RandomForestClassifier(), n_iter=2,\n",
       "                   n_jobs=-1,\n",
       "                   param_distributions={'bootstrap': [True, False],\n",
       "                                        'max_depth': [10, 15, 20, 25, 30, 35,\n",
       "                                                      40, 45, 50, 55, 60,\n",
       "                                                      None],\n",
       "                                        'max_features': ['auto', 'sqrt'],\n",
       "                                        'min_samples_leaf': [1, 2, 4],\n",
       "                                        'min_samples_split': [2, 5, 10],\n",
       "                                        'n_estimators': [10, 14, 18, 23, 27, 32,\n",
       "                                                         36, 41, 45, 50]},\n",
       "                   random_state=42, verbose=2)"
      ]
     },
     "execution_count": 23,
     "metadata": {},
     "output_type": "execute_result"
    }
   ],
   "source": [
    "rf_random.fit(X_train,y_train)"
   ]
  },
  {
   "cell_type": "code",
   "execution_count": 24,
   "metadata": {
    "colab": {
     "base_uri": "https://localhost:8080/"
    },
    "id": "MtdZLASZNDpT",
    "outputId": "b5b697c7-f7be-4a7d-e1bd-ad23ebe31d60"
   },
   "outputs": [
    {
     "name": "stdout",
     "output_type": "stream",
     "text": [
      "              precision    recall  f1-score   support\n",
      "\n",
      "           0       0.99      1.00      0.99    112635\n",
      "           1       0.99      0.48      0.65      2752\n",
      "\n",
      "    accuracy                           0.99    115387\n",
      "   macro avg       0.99      0.74      0.82    115387\n",
      "weighted avg       0.99      0.99      0.99    115387\n",
      "\n"
     ]
    }
   ],
   "source": [
    "print(classification_report(y_train, rf_random.predict(X_train)))"
   ]
  },
  {
   "cell_type": "code",
   "execution_count": 25,
   "metadata": {
    "colab": {
     "base_uri": "https://localhost:8080/"
    },
    "id": "13XiZCl3NAO9",
    "outputId": "065d9a4a-5745-41f6-81ae-b091229fffb5"
   },
   "outputs": [
    {
     "data": {
      "text/plain": [
       "0.8439712374669849"
      ]
     },
     "execution_count": 25,
     "metadata": {},
     "output_type": "execute_result"
    }
   ],
   "source": [
    "roc_auc_score(y_test, rf_random.predict_proba(X_test)[:,1])"
   ]
  },
  {
   "cell_type": "markdown",
   "metadata": {
    "id": "VAPIp9YjuBnR"
   },
   "source": [
    "# Prueba competencia XGBoost"
   ]
  },
  {
   "cell_type": "code",
   "execution_count": 26,
   "metadata": {
    "id": "BKg6_GJVUGB_"
   },
   "outputs": [],
   "source": [
    "identity = pd.read_csv('test_identity.csv')\n",
    "transaction = pd.read_csv('test_transaction.csv')"
   ]
  },
  {
   "cell_type": "code",
   "execution_count": 27,
   "metadata": {
    "id": "dk7VT6s1UGB_"
   },
   "outputs": [],
   "source": [
    "mergeado = identity.merge(transaction, left_on='TransactionID', right_on='TransactionID',\n",
    "          how = 'right')\n",
    "mergeado.drop(['TransactionID'], axis=1, inplace= True)"
   ]
  },
  {
   "cell_type": "code",
   "execution_count": 28,
   "metadata": {
    "id": "M6imLNK1UGCA"
   },
   "outputs": [],
   "source": [
    "identity = None\n",
    "transaction =None"
   ]
  },
  {
   "cell_type": "code",
   "execution_count": 29,
   "metadata": {
    "id": "cLRW61VAJC0n"
   },
   "outputs": [],
   "source": [
    "for c in mergeado.columns:\n",
    "  if c[:2] == 'id':\n",
    "    mergeado.rename(columns = {c:c.replace('-','_')},inplace= True)"
   ]
  },
  {
   "cell_type": "code",
   "execution_count": 30,
   "metadata": {
    "id": "PnIIIvkO0fSl"
   },
   "outputs": [],
   "source": [
    " test = mergeado"
   ]
  },
  {
   "cell_type": "code",
   "execution_count": 31,
   "metadata": {},
   "outputs": [],
   "source": [
    "test[\"id_30\"].fillna(\"Desconocido\",inplace =True)\n",
    "test[\"id_31\"].fillna(\"Desconocido\",inplace =True)\n",
    "test[\"DeviceInfo\"].fillna(\"Desconocido\",inplace =True)\n",
    "\n",
    "test['id_30'] = test['id_30'].map(mean_encoder_id_30)\n",
    "test['id_31'] = test['id_31'].map(lambda x: selector(x, filtro31))\n",
    "test['DeviceInfo'] = test['DeviceInfo'].map(lambda x: selector(x, filtroDI))\n",
    "\n",
    "X_cat = ['ProductCD','card4','id_34','id_15','id_23','id_31','DeviceType','DeviceInfo' ,'card6','P_emaildomain','R_emaildomain','M1','M2','M3','M4','M5','M6','M7','M8','M9']\n",
    "\n",
    "cont_df = test.drop(X_cat,axis =1)\n",
    "cont_df['id_12'] = cont_df['id_12'].replace('Found',1).replace('NotFound',0).astype(float)\n",
    "cont_df['id_13'] = cont_df['id_13'].astype(float).fillna(cont_df['id_13'].mean()) \n",
    "cont_df['id_16'] = cont_df['id_16'].replace('Found',1).replace('NotFound',0).astype(float)\n",
    "cont_df['id_27'] = cont_df['id_27'].replace('Found',1).replace('NotFound',0).astype(float)\n",
    "cont_df['id_28'] = cont_df['id_28'].replace('Found',1).replace('New',0).astype(float)\n",
    "cont_df['id_29'] = cont_df['id_29'].replace('Found',1).replace('NotFound',0).astype(float)\n",
    "cont_df['id_13'] = cont_df['id_13'].astype(float).fillna(cont_df['id_13'].mean()) \n",
    "cont_df['id_33'] = cont_df['id_33'].astype(str).map(lambda x : 'nan' if x.find('nan') != -1 else\n",
    "                                               int(x.split('x')[0])*int(x.split('x')[1])).astype(float)\n",
    "media = cont_df['id_33'].mean()\n",
    "cont_df['id_33'] = cont_df['id_33'] /media\n",
    "cont_df['id_35'] = cont_df['id_35'].replace('T',1).replace('F',0).astype(float)\n",
    "cont_df['id_36'] = cont_df['id_36'].replace('T',1).replace('F',0).astype(float)\n",
    "cont_df['id_37'] = cont_df['id_37'].replace('T',1).replace('F',0).astype(float)\n",
    "cont_df['id_38'] = cont_df['id_38'].replace('T',1).replace('F',0).astype(float)\n",
    "\n",
    "cont_df.apply(lambda x: x.fillna(x.mean(),inplace = True)) \n",
    "cont_df.apply(lambda x: x.fillna(0,inplace = True)) \n",
    "cat_df = test[X_cat].fillna('Others')"
   ]
  },
  {
   "cell_type": "code",
   "execution_count": 32,
   "metadata": {
    "id": "kg4gWoKsUGCB"
   },
   "outputs": [],
   "source": [
    "cont = 0 \n",
    "for columna in X_cat:  \n",
    "    encoded_data = (encoders[cont].transform(cat_df[[columna]].astype(str)).todense().astype(int))\n",
    "    encoded_data = pd.DataFrame(encoded_data, index = cont_df.index ).add_prefix(columna[0:8])\n",
    "    cont_df = pd.concat([cont_df, encoded_data], axis=1)\n",
    "    cont += 1\n",
    "test = cont_df"
   ]
  },
  {
   "cell_type": "code",
   "execution_count": 33,
   "metadata": {
    "colab": {
     "base_uri": "https://localhost:8080/",
     "height": 225
    },
    "id": "isBA09JRmD6p",
    "outputId": "9b404986-d9c0-4448-8216-f5cf4c82f737"
   },
   "outputs": [
    {
     "data": {
      "text/plain": [
       "XGBClassifier(base_score=0.5, booster='gbtree', colsample_bylevel=1,\n",
       "              colsample_bynode=1, colsample_bytree=1, enable_categorical=False,\n",
       "              gamma=3.807233425619809, gpu_id=-1, importance_type=None,\n",
       "              interaction_constraints='', learning_rate=0.300000012,\n",
       "              max_delta_step=0, max_depth=8, min_child_weight=1, missing=nan,\n",
       "              monotone_constraints='()', n_estimators=220, n_jobs=8,\n",
       "              num_parallel_tree=1, predictor='auto', random_state=1,\n",
       "              reg_alpha=5, reg_lambda=0.06118423963716291, scale_pos_weight=1,\n",
       "              subsample=1, tree_method='exact', validate_parameters=1,\n",
       "              verbosity=None)"
      ]
     },
     "execution_count": 33,
     "metadata": {},
     "output_type": "execute_result"
    }
   ],
   "source": [
    "with open('xgboostmodel', 'rb') as file:\n",
    "    model=pickle.load(file)\n",
    "file.close()\n",
    "model"
   ]
  },
  {
   "cell_type": "code",
   "execution_count": 34,
   "metadata": {
    "id": "usqQuqWR-Wvn"
   },
   "outputs": [],
   "source": [
    "sample = pd.read_csv('submit_XGBoost.csv')"
   ]
  },
  {
   "cell_type": "code",
   "execution_count": 35,
   "metadata": {
    "id": "b-tJIAuxmz6G"
   },
   "outputs": [],
   "source": [
    "sample['isFraud'] = 1 - model.predict_proba(test)"
   ]
  },
  {
   "cell_type": "code",
   "execution_count": 36,
   "metadata": {
    "id": "bR5PkAvTkA0L"
   },
   "outputs": [],
   "source": [
    "sample.to_csv('submit_XGBoost.csv', index = False)"
   ]
  },
  {
   "cell_type": "markdown",
   "metadata": {},
   "source": [
    "Submit XGBoost<img src=\"xgsubmit.png\" />"
   ]
  }
 ],
 "metadata": {
  "colab": {
   "collapsed_sections": [],
   "name": "TP3-Parte3.ipynb",
   "provenance": []
  },
  "kernelspec": {
   "display_name": "Python 3",
   "language": "python",
   "name": "python3"
  },
  "language_info": {
   "codemirror_mode": {
    "name": "ipython",
    "version": 3
   },
   "file_extension": ".py",
   "mimetype": "text/x-python",
   "name": "python",
   "nbconvert_exporter": "python",
   "pygments_lexer": "ipython3",
   "version": "3.8.5"
  }
 },
 "nbformat": 4,
 "nbformat_minor": 1
}
