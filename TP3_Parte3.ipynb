{
 "cells": [
  {
   "cell_type": "code",
   "execution_count": 1,
   "metadata": {
    "colab": {
     "base_uri": "https://localhost:8080/"
    },
    "id": "x0l38L3710rN",
    "outputId": "f2fe315a-1505-4481-f7dd-fc5d5433a6f3"
   },
   "outputs": [
    {
     "name": "stderr",
     "output_type": "stream",
     "text": [
      "[nltk_data] Downloading package stopwords to\n",
      "[nltk_data]     C:\\Users\\igna-\\AppData\\Roaming\\nltk_data...\n",
      "[nltk_data]   Package stopwords is already up-to-date!\n"
     ]
    }
   ],
   "source": [
    "# importacion general de librerias y de visualizacion (matplotlib y seaborn)\n",
    "import pandas as pd\n",
    "import scipy \n",
    "import numpy as np\n",
    "import random as rd\n",
    "import nltk\n",
    "import pickle\n",
    "import sklearn\n",
    "from sklearn.neighbors import NearestNeighbors\n",
    "from collections import Counter\n",
    "import matplotlib.pyplot as plt\n",
    "import seaborn as sns\n",
    "from datetime import date\n",
    "from datetime import datetime\n",
    "from tqdm import tqdm\n",
    "\n",
    "%matplotlib inline\n",
    "nltk.download('stopwords')\n",
    "\n",
    "plt.style.use('default') # haciendo los graficos un poco mas bonitos en matplotlib\n",
    "#plt.rcParams['figure.figsize'] = (20, 10)\n",
    "\n",
    "sns.set(style=\"whitegrid\") # seteando tipo de grid en seaborn\n",
    "\n",
    "pd.options.display.float_format = '{:20,.2f}'.format # suprimimos la notacion cientifica en los outputs\n",
    "\n",
    "import warnings\n",
    "warnings.filterwarnings('ignore')"
   ]
  },
  {
   "cell_type": "code",
   "execution_count": 2,
   "metadata": {
    "id": "R8oTb5jTtsFM"
   },
   "outputs": [],
   "source": [
    "def timer(start_time=None):\n",
    "    if not start_time:\n",
    "        start_time = datetime.now()\n",
    "        return start_time\n",
    "    elif start_time:\n",
    "        thour, temp_sec = divmod((datetime.now() - start_time).total_seconds(), 3600)\n",
    "        tmin, tsec = divmod(temp_sec, 60)\n",
    "        print('\\n Time taken: %i hours %i minutes and %s seconds.' % (thour, tmin, round(tsec, 2)))"
   ]
  },
  {
   "cell_type": "markdown",
   "metadata": {
    "id": "fJtyNitMsn4P"
   },
   "source": [
    "# Parte 3"
   ]
  },
  {
   "cell_type": "code",
   "execution_count": 4,
   "metadata": {
    "id": "nSekryWPUGB1"
   },
   "outputs": [],
   "source": [
    "identity = pd.read_csv('train_identity.csv')\n",
    "transaction = pd.read_csv('train_transaction.csv')"
   ]
  },
  {
   "cell_type": "code",
   "execution_count": 5,
   "metadata": {
    "id": "EBP9dbd9UGB1"
   },
   "outputs": [],
   "source": [
    "mergeado = identity.merge(transaction, left_on='TransactionID', right_on='TransactionID',\n",
    "          how = 'right')"
   ]
  },
  {
   "cell_type": "code",
   "execution_count": 3,
   "metadata": {
    "id": "jB5hhnm9UGB1"
   },
   "outputs": [],
   "source": [
    "import xgboost as xgb\n",
    "from sklearn.metrics import classification_report, accuracy_score, roc_auc_score, ConfusionMatrixDisplay, confusion_matrix\n",
    "from sklearn.model_selection import train_test_split\n",
    "from sklearn.preprocessing import OneHotEncoder\n",
    "from sklearn.feature_extraction.text import CountVectorizer"
   ]
  },
  {
   "cell_type": "markdown",
   "metadata": {
    "id": "DPyKJdMQUGB4"
   },
   "source": [
    "Spliteo el 20% con el delta tiempo mayor"
   ]
  },
  {
   "cell_type": "code",
   "execution_count": 6,
   "metadata": {
    "id": "0hmyZeDUUGB4"
   },
   "outputs": [],
   "source": [
    "test_lenght = int(144233*0.2)\n",
    "mergeado.sort_values(by = \"TransactionDT\")\n",
    "train_lenght = (144233- test_lenght)\n",
    "train = mergeado.iloc[0:train_lenght ,:]\n",
    "test = mergeado.iloc[(144233- test_lenght):144233,:]"
   ]
  },
  {
   "cell_type": "markdown",
   "metadata": {
    "id": "XsYI10NqUGB5"
   },
   "source": [
    "Encodeo el train set y el validation set"
   ]
  },
  {
   "cell_type": "markdown",
   "metadata": {},
   "source": [
    "Mean encoding en id_30 y OHE en las demas categoricas"
   ]
  },
  {
   "cell_type": "code",
   "execution_count": 7,
   "metadata": {},
   "outputs": [],
   "source": [
    "train[\"id_30\"].fillna(\"Desconocido\",inplace =True)\n",
    "mean_encoder_id_30 = train.groupby(['id_30'])['isFraud'].mean().to_dict()"
   ]
  },
  {
   "cell_type": "code",
   "execution_count": 8,
   "metadata": {
    "id": "HMNhBkK-c_ll"
   },
   "outputs": [],
   "source": [
    "train[\"id_31\"].fillna(\"Desconocido\",inplace =True)\n",
    "vec = CountVectorizer().fit(train[\"id_31\"])\n",
    "bag_of_words = vec.transform(train[\"id_31\"])\n",
    "sum_words = bag_of_words.sum(axis=0) \n",
    "words_freq = [(word, sum_words[0, idx]) for word, idx in vec.vocabulary_.items()]\n",
    "words_freq =sorted(words_freq, key = lambda x: x[1], reverse=True)\n",
    "filtro31 = list(filter(lambda c: c[0].isalpha() and c[1] > 2000, words_freq))\n"
   ]
  },
  {
   "cell_type": "code",
   "execution_count": 9,
   "metadata": {
    "id": "WzguETIRfDCP"
   },
   "outputs": [],
   "source": [
    "train[\"DeviceInfo\"].fillna(\"Desconocido\",inplace =True)\n",
    "vec = CountVectorizer().fit(train[\"DeviceInfo\"])\n",
    "bag_of_words = vec.transform(train[\"DeviceInfo\"])\n",
    "sum_words = bag_of_words.sum(axis=0) \n",
    "words_freq = [(word, sum_words[0, idx]) for word, idx in vec.vocabulary_.items()]\n",
    "words_freq =sorted(words_freq, key = lambda x: x[1], reverse=True)\n",
    "filtroDI = list(filter(lambda c: c[0].isalpha() and c[1] > 2000, words_freq))\n"
   ]
  },
  {
   "cell_type": "code",
   "execution_count": 10,
   "metadata": {
    "id": "ebVzXy6PbAT8"
   },
   "outputs": [],
   "source": [
    "def selector(x, vec):\n",
    "  for item in vec:\n",
    "    if x.find(item[0]):\n",
    "      return item[0]\n",
    "    else:\n",
    "      return 'other'"
   ]
  },
  {
   "cell_type": "code",
   "execution_count": 11,
   "metadata": {
    "id": "ESBZ2tcSUGB5"
   },
   "outputs": [],
   "source": [
    "train['id_30'] =  train['id_30'].map(mean_encoder_id_30)\n",
    "train['id_31'] = train['id_31'].map(lambda x: selector(x, filtro31))\n",
    "train['DeviceInfo'] = train['DeviceInfo'].map(lambda x: selector(x, filtroDI))\n",
    "\n",
    "X_cat = ['ProductCD','card4','id_34','id_15','id_23','id_31','DeviceType','DeviceInfo' ,'card6','P_emaildomain','R_emaildomain','M1','M2','M3','M4','M5','M6','M7','M8','M9']\n",
    "\n",
    "cont_df = train.drop(X_cat,axis =1)\n",
    "cont_df['id_12'] = cont_df['id_12'].replace('Found',1).replace('NotFound',0).astype(float)\n",
    "cont_df['id_13'] = cont_df['id_13'].astype(float).fillna(cont_df['id_13'].mean()) \n",
    "cont_df['id_16'] = cont_df['id_16'].replace('Found',1).replace('NotFound',0).astype(float)\n",
    "cont_df['id_27'] = cont_df['id_27'].replace('Found',1).replace('NotFound',0).astype(float)\n",
    "cont_df['id_28'] = cont_df['id_28'].replace('Found',1).replace('New',0).astype(float)\n",
    "cont_df['id_29'] = cont_df['id_29'].replace('Found',1).replace('NotFound',0).astype(float)\n",
    "cont_df['id_13'] = cont_df['id_13'].astype(float).fillna(cont_df['id_13'].mean()) \n",
    "cont_df['id_33'] = cont_df['id_33'].astype(str).map(lambda x : 'nan' if x.find('nan') != -1 else\n",
    "                                               int(x.split('x')[0])*int(x.split('x')[1])).astype(float)\n",
    "media = cont_df['id_33'].mean()\n",
    "cont_df['id_33'] = cont_df['id_33'] /media\n",
    "cont_df['id_35'] = cont_df['id_35'].replace('T',1).replace('F',0).astype(float)\n",
    "cont_df['id_36'] = cont_df['id_36'].replace('T',1).replace('F',0).astype(float)\n",
    "cont_df['id_37'] = cont_df['id_37'].replace('T',1).replace('F',0).astype(float)\n",
    "cont_df['id_38'] = cont_df['id_38'].replace('T',1).replace('F',0).astype(float)\n",
    "\n",
    "cont_df.apply(lambda x: x.fillna(x.mean(),inplace = True)) \n",
    "cont_df.apply(lambda x: x.fillna(0,inplace = True)) \n",
    "cat_df = train[X_cat].fillna('Others')"
   ]
  },
  {
   "cell_type": "code",
   "execution_count": 12,
   "metadata": {
    "id": "H5LKYnSKUGB6"
   },
   "outputs": [],
   "source": [
    "encoders = []\n",
    "for columna in X_cat:    \n",
    "    ohe = OneHotEncoder(handle_unknown = 'ignore')  # drop='first'\n",
    "    encoded_data = (ohe.fit_transform(cat_df[[columna]].astype(str)).todense().astype(int))\n",
    "    encoders.append(ohe)\n",
    "    encoded_data = pd.DataFrame(encoded_data, index = cont_df.index ).add_prefix(columna[0:8])\n",
    "    cont_df = pd.concat([cont_df, encoded_data], axis=1)\n",
    "train = cont_df"
   ]
  },
  {
   "cell_type": "code",
   "execution_count": 13,
   "metadata": {},
   "outputs": [],
   "source": [
    "test[\"id_30\"].fillna(\"Desconocido\",inplace =True)\n",
    "test[\"id_31\"].fillna(\"Desconocido\",inplace =True)\n",
    "test[\"DeviceInfo\"].fillna(\"Desconocido\",inplace =True)\n",
    "                          \n",
    "test['id_30'] =  test['id_30'].map(mean_encoder_id_30)\n",
    "test['id_31'] = test['id_31'].map(lambda x: selector(x, filtro31))\n",
    "test['DeviceInfo'] = test['DeviceInfo'].map(lambda x: selector(x, filtroDI))\n",
    "\n",
    "X_cat = ['ProductCD','card4','id_34','id_15','id_23','id_31','DeviceType','DeviceInfo' ,'card6','P_emaildomain','R_emaildomain','M1','M2','M3','M4','M5','M6','M7','M8','M9']\n",
    "\n",
    "cont_df = test.drop(X_cat,axis =1)\n",
    "cont_df['id_12'] = cont_df['id_12'].replace('Found',1).replace('NotFound',0).astype(float)\n",
    "cont_df['id_13'] = cont_df['id_13'].astype(float).fillna(cont_df['id_13'].mean()) \n",
    "cont_df['id_16'] = cont_df['id_16'].replace('Found',1).replace('NotFound',0).astype(float)\n",
    "cont_df['id_27'] = cont_df['id_27'].replace('Found',1).replace('NotFound',0).astype(float)\n",
    "cont_df['id_28'] = cont_df['id_28'].replace('Found',1).replace('New',0).astype(float)\n",
    "cont_df['id_29'] = cont_df['id_29'].replace('Found',1).replace('NotFound',0).astype(float)\n",
    "cont_df['id_13'] = cont_df['id_13'].astype(float).fillna(cont_df['id_13'].mean()) \n",
    "cont_df['id_33'] = cont_df['id_33'].astype(str).map(lambda x : 'nan' if x.find('nan') != -1 else\n",
    "                                               int(x.split('x')[0])*int(x.split('x')[1])).astype(float)\n",
    "media = cont_df['id_33'].mean()\n",
    "cont_df['id_33'] = cont_df['id_33'] /media\n",
    "cont_df['id_35'] = cont_df['id_35'].replace('T',1).replace('F',0).astype(float)\n",
    "cont_df['id_36'] = cont_df['id_36'].replace('T',1).replace('F',0).astype(float)\n",
    "cont_df['id_37'] = cont_df['id_37'].replace('T',1).replace('F',0).astype(float)\n",
    "cont_df['id_38'] = cont_df['id_38'].replace('T',1).replace('F',0).astype(float)\n",
    "\n",
    "cont_df.apply(lambda x: x.fillna(x.mean(),inplace = True)) \n",
    "cont_df.apply(lambda x: x.fillna(0,inplace = True)) \n",
    "cat_df = test[X_cat].fillna('Others')"
   ]
  },
  {
   "cell_type": "code",
   "execution_count": 14,
   "metadata": {
    "id": "wvSWGvvpUGB7"
   },
   "outputs": [],
   "source": [
    "cont = 0 \n",
    "for columna in X_cat:  \n",
    "    encoded_data = (encoders[cont].transform(cat_df[[columna]].astype(str)).todense().astype(int))\n",
    "    encoded_data = pd.DataFrame(encoded_data, index = cont_df.index ).add_prefix(columna[0:8])\n",
    "    cont_df = pd.concat([cont_df, encoded_data], axis=1)\n",
    "    cont += 1\n",
    "test = cont_df"
   ]
  },
  {
   "cell_type": "code",
   "execution_count": 15,
   "metadata": {
    "id": "93eIPrwjUGB7"
   },
   "outputs": [],
   "source": [
    "X_train = train.drop(['isFraud'], axis=1)\n",
    "y_train = train.loc[:, 'isFraud']"
   ]
  },
  {
   "cell_type": "code",
   "execution_count": 16,
   "metadata": {
    "id": "08LGDZQOUGB8"
   },
   "outputs": [],
   "source": [
    "X_test= test.drop(['isFraud'], axis=1)\n",
    "y_test = test.loc[:, 'isFraud']"
   ]
  },
  {
   "cell_type": "markdown",
   "metadata": {
    "id": "Sd-tFIXijw5C"
   },
   "source": [
    "Entreno un XGBoost buscando hiperparametros"
   ]
  },
  {
   "cell_type": "code",
   "execution_count": 19,
   "metadata": {
    "id": "rjtOIfiblewg"
   },
   "outputs": [],
   "source": [
    "from xgboost import XGBClassifier\n",
    "from sklearn.model_selection import train_test_split\n",
    "from sklearn.metrics import accuracy_score"
   ]
  },
  {
   "cell_type": "code",
   "execution_count": 20,
   "metadata": {
    "id": "oGkzdUV_7qQn"
   },
   "outputs": [],
   "source": [
    "from hyperopt.pyll.base import scope\n",
    "from hyperopt.pyll.stochastic import sample\n",
    "from hyperopt import STATUS_OK, Trials, fmin, hp, tpe\n",
    "\n",
    "\n",
    "space={'max_depth': hp.quniform(\"max_depth\", 3, 18, 1),\n",
    "        'gamma': hp.uniform ('gamma', 0,9),\n",
    "        'reg_alpha' : hp.quniform('reg_alpha', 0,15,1),\n",
    "        'reg_lambda' : hp.uniform('reg_lambda', 0,1),\n",
    "        'n_estimators': hp.quniform('n_estimators', 150,301,10),\n",
    "        'seed': 0\n",
    "    }"
   ]
  },
  {
   "cell_type": "code",
   "execution_count": 21,
   "metadata": {
    "id": "vXvM7K7f7tnM"
   },
   "outputs": [],
   "source": [
    "def objective(space):\n",
    "    clf=xgb.XGBClassifier(\n",
    "                    n_estimators = int(space['n_estimators']), max_depth = int(space['max_depth']), gamma = space['gamma'],\n",
    "                    reg_alpha = int(space['reg_alpha']))\n",
    "    \n",
    "    evaluation = [( X_train, y_train), ( X_test, y_test)]\n",
    "    \n",
    "    clf.fit(X_train, y_train,\n",
    "            eval_set=evaluation, eval_metric=\"auc\",\n",
    "            early_stopping_rounds=10,verbose=False)\n",
    "    \n",
    "    accuracy = roc_auc_score(y_test, clf.predict_proba(X_test)[:,1])\n",
    "    print (\"SCORE:\", accuracy)\n",
    "    return {'loss': -accuracy, 'status': STATUS_OK }"
   ]
  },
  {
   "cell_type": "code",
   "execution_count": 22,
   "metadata": {
    "colab": {
     "base_uri": "https://localhost:8080/"
    },
    "id": "tLgFt-Cq8wwX",
    "outputId": "826796b4-01e4-4f35-ee35-482bd2d7227e"
   },
   "outputs": [
    {
     "name": "stdout",
     "output_type": "stream",
     "text": [
      "SCORE:                                                                                                                 \n",
      "0.8994205999438308                                                                                                     \n",
      "SCORE:                                                                                                                 \n",
      "0.8958270171443978                                                                                                     \n",
      "SCORE:                                                                                                                 \n",
      "0.8959141593123197                                                                                                     \n",
      "SCORE:                                                                                                                 \n",
      "0.8933430665783154                                                                                                     \n",
      "SCORE:                                                                                                                 \n",
      "0.8968334866441363                                                                                                     \n",
      "SCORE:                                                                                                                 \n",
      "0.8894688984817324                                                                                                     \n",
      "SCORE:                                                                                                                 \n",
      "0.8936835209375096                                                                                                     \n",
      "SCORE:                                                                                                                 \n",
      "0.888944571720865                                                                                                      \n",
      "SCORE:                                                                                                                 \n",
      "0.9004643814104152                                                                                                     \n",
      "SCORE:                                                                                                                 \n",
      "0.9066992249409832                                                                                                     \n",
      "SCORE:                                                                                                                 \n",
      "0.8897539223771689                                                                                                     \n",
      "SCORE:                                                                                                                 \n",
      "0.8973896291388151                                                                                                     \n",
      "SCORE:                                                                                                                 \n",
      "0.8945242018559375                                                                                                     \n",
      "SCORE:                                                                                                                 \n",
      "0.8901338559875287                                                                                                     \n",
      "SCORE:                                                                                                                 \n",
      "0.8970929539228765                                                                                                     \n",
      "SCORE:                                                                                                                 \n",
      "0.897475748348538                                                                                                      \n",
      "SCORE:                                                                                                                 \n",
      "0.8938224698698065                                                                                                     \n",
      "SCORE:                                                                                                                 \n",
      "0.9001459986747316                                                                                                     \n",
      "SCORE:                                                                                                                 \n",
      "0.8944556463183404                                                                                                     \n",
      "SCORE:                                                                                                                 \n",
      "0.8983336114970515                                                                                                     \n",
      "SCORE:                                                                                                                 \n",
      "0.8999711941906516                                                                                                     \n",
      "SCORE:                                                                                                                 \n",
      "0.8932019850382481                                                                                                     \n",
      "SCORE:                                                                                                                 \n",
      "0.8950824769583867                                                                                                     \n",
      "SCORE:                                                                                                                 \n",
      "0.896409513816403                                                                                                      \n",
      "SCORE:                                                                                                                 \n",
      "0.8882159133943477                                                                                                     \n",
      "SCORE:                                                                                                                 \n",
      "0.8897328910501319                                                                                                     \n",
      "SCORE:                                                                                                                 \n",
      "0.9011469372648864                                                                                                     \n",
      "SCORE:                                                                                                                 \n",
      "0.9081416653544483                                                                                                     \n",
      "SCORE:                                                                                                                 \n",
      "0.8967120146925925                                                                                                     \n",
      "SCORE:                                                                                                                 \n",
      "0.9018017345417926                                                                                                     \n",
      "SCORE:                                                                                                                 \n",
      "0.8981357297695365                                                                                                     \n",
      "SCORE:                                                                                                                 \n",
      "0.8888365369321026                                                                                                     \n",
      "SCORE:                                                                                                                 \n",
      "0.8947464091826554                                                                                                     \n",
      "SCORE:                                                                                                                 \n",
      "0.9032265072534846                                                                                                     \n",
      "SCORE:                                                                                                                 \n",
      "0.8836896701299639                                                                                                     \n",
      "SCORE:                                                                                                                 \n",
      "0.894472481782935                                                                                                      \n",
      "SCORE:                                                                                                                 \n",
      "0.8922360871009721                                                                                                     \n",
      "SCORE:                                                                                                                 \n",
      "0.900236279070348                                                                                                      \n",
      "SCORE:                                                                                                                 \n",
      "0.896360117072191                                                                                                      \n",
      "SCORE:                                                                                                                 \n",
      "0.8963487258258073                                                                                                     \n",
      "SCORE:                                                                                                                 \n",
      "0.9010398734194993                                                                                                     \n",
      "SCORE:                                                                                                                 \n",
      "0.90027589702771                                                                                                       \n",
      "SCORE:                                                                                                                 \n",
      "0.8925146611582737                                                                                                     \n",
      "SCORE:                                                                                                                 \n",
      "0.8840380480806305                                                                                                     \n",
      "SCORE:                                                                                                                 \n",
      "0.8921681384029847                                                                                                     \n",
      "SCORE:                                                                                                                 \n",
      "0.9012146432270302                                                                                                     \n",
      "SCORE:                                                                                                                 \n",
      "0.895742978527622                                                                                                      \n",
      "SCORE:                                                                                                                 \n",
      "0.9008027205001135                                                                                                     \n",
      "SCORE:                                                                                                                 \n",
      "0.8935580785210923                                                                                                     \n",
      "SCORE:                                                                                                                 \n",
      "0.8917872858640735                                                                                                     \n",
      "SCORE:                                                                                                                 \n",
      "0.8982592129609289                                                                                                     \n",
      "SCORE:                                                                                                                 \n",
      "0.8947570028684095                                                                                                     \n",
      "SCORE:                                                                                                                 \n",
      "0.8913560309610262                                                                                                     \n",
      "SCORE:                                                                                                                 \n",
      "0.8988949728123719                                                                                                     \n",
      "SCORE:                                                                                                                 \n",
      "0.8901621520516052                                                                                                     \n",
      "SCORE:                                                                                                                 \n",
      "0.8986462032490331                                                                                                     \n",
      "SCORE:                                                                                                                 \n",
      "0.8948607551033564                                                                                                     \n",
      "SCORE:                                                                                                                 \n",
      "0.8947373412650621                                                                                                     \n",
      "SCORE:                                                                                                                 \n",
      "0.8964922867391363                                                                                                     \n",
      "SCORE:                                                                                                                 \n",
      "0.8993808432802726                                                                                                     \n",
      "SCORE:                                                                                                                 \n",
      "0.8928950629020465                                                                                                     \n",
      "SCORE:                                                                                                                 \n",
      "0.8969932761824504                                                                                                     \n",
      "SCORE:                                                                                                                 \n",
      "0.8934685436712818                                                                                                     \n",
      "SCORE:                                                                                                                 \n",
      "0.8994575824834602                                                                                                     \n",
      "SCORE:                                                                                                                 \n",
      "0.8813001438071169                                                                                                     \n",
      "SCORE:                                                                                                                 \n",
      "0.898673580384558                                                                                                      \n",
      "SCORE:                                                                                                                 \n",
      "0.8991705820247241                                                                                                     \n",
      "SCORE:                                                                                                                 \n",
      "0.9006303433744713                                                                                                     \n",
      "SCORE:                                                                                                                 \n",
      "0.9035113230896263                                                                                                     \n",
      "SCORE:                                                                                                                 \n",
      "0.8999420658893965                                                                                                     \n",
      "SCORE:                                                                                                                 \n",
      "0.8949523185312901                                                                                                     \n",
      "SCORE:                                                                                                                 \n",
      "0.8962533306391967                                                                                                     \n",
      "SCORE:                                                                                                                 \n",
      "0.8932758114113103                                                                                                     \n",
      "SCORE:                                                                                                                 \n",
      "0.9036191498190943                                                                                                     \n",
      "SCORE:                                                                                                                 \n",
      "0.8984663706653317                                                                                                     \n",
      "SCORE:                                                                                                                 \n",
      "0.9003454581852313                                                                                                     \n",
      "SCORE:                                                                                                                 \n",
      "0.9002279393602863                                                                                                     \n",
      "SCORE:                                                                                                                 \n",
      "0.9025190709750246                                                                                                     \n",
      "SCORE:                                                                                                                 \n",
      "0.8998966569483324                                                                                                     \n",
      "SCORE:                                                                                                                 \n",
      "0.8941761359942129                                                                                                     \n",
      "SCORE:                                                                                                                 \n",
      "0.8936308819359557                                                                                                     \n",
      "SCORE:                                                                                                                 \n",
      "0.8992254750019706                                                                                                     \n",
      "SCORE:                                                                                                                 \n",
      "0.9054890307152043                                                                                                     \n",
      "SCORE:                                                                                                                 \n",
      "0.9003231091493277                                                                                                     \n",
      "SCORE:                                                                                                                 \n",
      "0.8922042193523371                                                                                                     \n",
      "SCORE:                                                                                                                 \n",
      "0.9028694775038142                                                                                                     \n",
      "SCORE:                                                                                                                 \n",
      "0.8927661875072669                                                                                                     \n",
      "SCORE:                                                                                                                 \n",
      "0.9009584875587303                                                                                                     \n",
      "SCORE:                                                                                                                 \n",
      "0.8986610794886027                                                                                                     \n",
      "SCORE:                                                                                                                 \n",
      "0.8872856802878348                                                                                                     \n",
      "SCORE:                                                                                                                 \n",
      "0.9039718103235763                                                                                                     \n",
      "SCORE:                                                                                                                 \n",
      "0.898356862123232                                                                                                      \n",
      "SCORE:                                                                                                                 \n",
      "0.8900721837449307                                                                                                     \n",
      "SCORE:                                                                                                                 \n",
      "0.8927300545430907                                                                                                     \n",
      "SCORE:                                                                                                                 \n",
      "0.8936974088954295                                                                                                     \n",
      "SCORE:                                                                                                                 \n",
      "0.8922272272426737                                                                                                     \n",
      "SCORE:                                                                                                                 \n",
      "0.8991525155426361                                                                                                     \n",
      "SCORE:                                                                                                                 \n",
      "0.8946762238472501                                                                                                     \n",
      "SCORE:                                                                                                                 \n",
      "0.8950184987252727                                                                                                     \n",
      "SCORE:                                                                                                                 \n",
      "0.9037523597825129                                                                                                     \n",
      "100%|██████████████████████████████████████████| 100/100 [3:02:34<00:00, 109.55s/trial, best loss: -0.9081416653544483]\n"
     ]
    }
   ],
   "source": [
    "trials = Trials()\n",
    "rstate = np.random.default_rng(int(2020))\n",
    "\n",
    "best_hyperparams = fmin(fn = objective,\n",
    "                        space = space,\n",
    "                        algo = tpe.suggest,\n",
    "                        max_evals = 100,\n",
    "                        rstate = rstate,\n",
    "                        trials = trials\n",
    "                        )"
   ]
  },
  {
   "cell_type": "code",
   "execution_count": 23,
   "metadata": {
    "colab": {
     "base_uri": "https://localhost:8080/"
    },
    "id": "zSTj3XCWWbPT",
    "outputId": "eba4f86d-96e8-4c1e-ed9f-1b825cd60364"
   },
   "outputs": [
    {
     "data": {
      "text/plain": [
       "{'gamma': 4.546109710752271,\n",
       " 'max_depth': 15.0,\n",
       " 'n_estimators': 210.0,\n",
       " 'reg_alpha': 1.0,\n",
       " 'reg_lambda': 0.4931803761169766}"
      ]
     },
     "execution_count": 23,
     "metadata": {},
     "output_type": "execute_result"
    }
   ],
   "source": [
    "best_hyperparams"
   ]
  },
  {
   "cell_type": "code",
   "execution_count": 24,
   "metadata": {
    "colab": {
     "base_uri": "https://localhost:8080/"
    },
    "id": "5rX7O1nWoz76",
    "outputId": "7836b1a2-8991-48f9-bff7-6ca873c1cfb5"
   },
   "outputs": [
    {
     "name": "stdout",
     "output_type": "stream",
     "text": [
      "[13:04:41] WARNING: C:/Users/Administrator/workspace/xgboost-win64_release_1.5.1/src/learner.cc:1115: Starting in XGBoost 1.3.0, the default evaluation metric used with the objective 'binary:logistic' was changed from 'error' to 'logloss'. Explicitly set eval_metric if you'd like to restore the old behavior.\n"
     ]
    },
    {
     "data": {
      "text/plain": [
       "XGBClassifier(base_score=0.5, booster='gbtree', colsample_bylevel=1,\n",
       "              colsample_bynode=1, colsample_bytree=1, enable_categorical=False,\n",
       "              gamma=3.807233425619809, gpu_id=-1, importance_type=None,\n",
       "              interaction_constraints='', learning_rate=0.300000012,\n",
       "              max_delta_step=0, max_depth=8, min_child_weight=1, missing=nan,\n",
       "              monotone_constraints='()', n_estimators=220, n_jobs=8,\n",
       "              num_parallel_tree=1, predictor='auto', random_state=1,\n",
       "              reg_alpha=5, reg_lambda=0.06118423963716291, scale_pos_weight=1,\n",
       "              subsample=1, tree_method='exact', validate_parameters=1,\n",
       "              verbosity=None)"
      ]
     },
     "execution_count": 24,
     "metadata": {},
     "output_type": "execute_result"
    }
   ],
   "source": [
    "model = XGBClassifier(gamma = 3.807233425619809,\n",
    "                      max_depth= 8,\n",
    "                      n_estimators= 220,\n",
    "                      reg_alpha= 5,\n",
    "                      reg_lambda= 0.06118423963716291, \n",
    "                      random_state = 1)\n",
    "model.fit(X_train,y_train)"
   ]
  },
  {
   "cell_type": "code",
   "execution_count": 25,
   "metadata": {
    "colab": {
     "base_uri": "https://localhost:8080/"
    },
    "id": "QDTWp8f0w9lE",
    "outputId": "d866b1a1-3161-49dd-eb1e-e62e8ddff067"
   },
   "outputs": [
    {
     "name": "stdout",
     "output_type": "stream",
     "text": [
      "              precision    recall  f1-score   support\n",
      "\n",
      "           0       0.99      1.00      1.00    112635\n",
      "           1       0.98      0.61      0.75      2752\n",
      "\n",
      "    accuracy                           0.99    115387\n",
      "   macro avg       0.99      0.80      0.87    115387\n",
      "weighted avg       0.99      0.99      0.99    115387\n",
      "\n"
     ]
    }
   ],
   "source": [
    "print(classification_report(y_train, model.predict(X_train)))"
   ]
  },
  {
   "cell_type": "code",
   "execution_count": 26,
   "metadata": {
    "colab": {
     "base_uri": "https://localhost:8080/"
    },
    "id": "t9oV4mnNxCUW",
    "outputId": "78e186f0-7c0c-48e3-c3e8-2a0bec396b5b"
   },
   "outputs": [
    {
     "data": {
      "text/plain": [
       "0.8910524377735394"
      ]
     },
     "execution_count": 26,
     "metadata": {},
     "output_type": "execute_result"
    }
   ],
   "source": [
    "roc_auc_score(y_test, model.predict_proba(X_test)[:,1])"
   ]
  },
  {
   "cell_type": "code",
   "execution_count": 27,
   "metadata": {
    "id": "BBCDuSbK9bAu"
   },
   "outputs": [],
   "source": [
    "with open('xgboostmodel', 'wb') as xgboostmodel:\n",
    "    pickle.dump(model, xgboostmodel)\n",
    "    xgboostmodel.close()"
   ]
  },
  {
   "cell_type": "markdown",
   "metadata": {},
   "source": [
    "## Entreno un RandomForest"
   ]
  },
  {
   "cell_type": "code",
   "execution_count": 17,
   "metadata": {},
   "outputs": [],
   "source": [
    "from sklearn.ensemble import RandomForestClassifier"
   ]
  },
  {
   "cell_type": "code",
   "execution_count": 29,
   "metadata": {},
   "outputs": [],
   "source": [
    "from sklearn.model_selection import RandomizedSearchCV# Number of trees in random forest\n",
    "n_estimators = [int(x) for x in np.linspace(start = 10, stop = 50, num = 10)]\n",
    "max_features = ['auto', 'sqrt']\n",
    "max_depth = [int(x) for x in np.linspace(10, 60, num = 11)]\n",
    "max_depth.append(None)\n",
    "min_samples_split = [2, 5, 10]\n",
    "min_samples_leaf = [1, 2, 4]\n",
    "bootstrap = [True, False]\n",
    "random_grid = {'n_estimators': n_estimators,\n",
    "               'max_features': max_features,\n",
    "               'max_depth': max_depth,\n",
    "               'min_samples_split': min_samples_split,\n",
    "               'min_samples_leaf': min_samples_leaf,\n",
    "               'bootstrap': bootstrap}"
   ]
  },
  {
   "cell_type": "code",
   "execution_count": 32,
   "metadata": {},
   "outputs": [],
   "source": [
    "rf = RandomForestClassifier()\n",
    "rf_random = RandomizedSearchCV(estimator = rf, param_distributions = random_grid, n_iter = 2, cv = 3, verbose=2, random_state=42, n_jobs = -1)"
   ]
  },
  {
   "cell_type": "code",
   "execution_count": 33,
   "metadata": {},
   "outputs": [
    {
     "name": "stdout",
     "output_type": "stream",
     "text": [
      "Fitting 3 folds for each of 2 candidates, totalling 6 fits\n"
     ]
    },
    {
     "name": "stderr",
     "output_type": "stream",
     "text": [
      "[Parallel(n_jobs=-1)]: Using backend LokyBackend with 8 concurrent workers.\n",
      "[Parallel(n_jobs=-1)]: Done   3 out of   6 | elapsed:    9.3s remaining:    9.3s\n",
      "[Parallel(n_jobs=-1)]: Done   6 out of   6 | elapsed:   27.5s finished\n"
     ]
    },
    {
     "data": {
      "text/plain": [
       "RandomizedSearchCV(cv=3, estimator=RandomForestClassifier(), n_iter=2,\n",
       "                   n_jobs=-1,\n",
       "                   param_distributions={'bootstrap': [True, False],\n",
       "                                        'max_depth': [10, 15, 20, 25, 30, 35,\n",
       "                                                      40, 45, 50, 55, 60,\n",
       "                                                      None],\n",
       "                                        'max_features': ['auto', 'sqrt'],\n",
       "                                        'min_samples_leaf': [1, 2, 4],\n",
       "                                        'min_samples_split': [2, 5, 10],\n",
       "                                        'n_estimators': [10, 14, 18, 23, 27, 32,\n",
       "                                                         36, 41, 45, 50]},\n",
       "                   random_state=42, verbose=2)"
      ]
     },
     "execution_count": 33,
     "metadata": {},
     "output_type": "execute_result"
    }
   ],
   "source": [
    "rf_random.fit(X_train,y_train)"
   ]
  },
  {
   "cell_type": "code",
   "execution_count": 35,
   "metadata": {
    "colab": {
     "base_uri": "https://localhost:8080/"
    },
    "id": "MtdZLASZNDpT",
    "outputId": "b5b697c7-f7be-4a7d-e1bd-ad23ebe31d60"
   },
   "outputs": [
    {
     "name": "stdout",
     "output_type": "stream",
     "text": [
      "              precision    recall  f1-score   support\n",
      "\n",
      "           0       0.99      1.00      0.99    112635\n",
      "           1       0.99      0.48      0.65      2752\n",
      "\n",
      "    accuracy                           0.99    115387\n",
      "   macro avg       0.99      0.74      0.82    115387\n",
      "weighted avg       0.99      0.99      0.99    115387\n",
      "\n"
     ]
    }
   ],
   "source": [
    "print(classification_report(y_train, rf_random.predict(X_train)))"
   ]
  },
  {
   "cell_type": "code",
   "execution_count": 36,
   "metadata": {
    "colab": {
     "base_uri": "https://localhost:8080/"
    },
    "id": "13XiZCl3NAO9",
    "outputId": "065d9a4a-5745-41f6-81ae-b091229fffb5"
   },
   "outputs": [
    {
     "data": {
      "text/plain": [
       "0.837922659019979"
      ]
     },
     "execution_count": 36,
     "metadata": {},
     "output_type": "execute_result"
    }
   ],
   "source": [
    "roc_auc_score(y_test, rf_random.predict_proba(X_test)[:,1])"
   ]
  },
  {
   "cell_type": "markdown",
   "metadata": {
    "id": "VAPIp9YjuBnR"
   },
   "source": [
    "# Prueba competencia XGBoost"
   ]
  },
  {
   "cell_type": "code",
   "execution_count": 13,
   "metadata": {
    "id": "BKg6_GJVUGB_"
   },
   "outputs": [],
   "source": [
    "identity = pd.read_csv('test_identity.csv')\n",
    "transaction = pd.read_csv('test_transaction.csv')"
   ]
  },
  {
   "cell_type": "code",
   "execution_count": 14,
   "metadata": {
    "id": "dk7VT6s1UGB_"
   },
   "outputs": [],
   "source": [
    "mergeado = identity.merge(transaction, left_on='TransactionID', right_on='TransactionID',\n",
    "\n",
    "          how = 'right')"
   ]
  },
  {
   "cell_type": "code",
   "execution_count": 15,
   "metadata": {
    "id": "M6imLNK1UGCA"
   },
   "outputs": [],
   "source": [
    "identity = None\n",
    "transaction =None"
   ]
  },
  {
   "cell_type": "code",
   "execution_count": 16,
   "metadata": {
    "id": "cLRW61VAJC0n"
   },
   "outputs": [],
   "source": [
    "for c in mergeado.columns:\n",
    "  if c[:2] == 'id':\n",
    "    mergeado.rename(columns = {c:c.replace('-','_')},inplace= True)"
   ]
  },
  {
   "cell_type": "code",
   "execution_count": 17,
   "metadata": {
    "id": "PnIIIvkO0fSl"
   },
   "outputs": [],
   "source": [
    " test = mergeado"
   ]
  },
  {
   "cell_type": "code",
   "execution_count": 18,
   "metadata": {},
   "outputs": [],
   "source": [
    "test[\"id_30\"].fillna(\"Desconocido\",inplace =True)\n",
    "test[\"id_31\"].fillna(\"Desconocido\",inplace =True)\n",
    "test[\"DeviceInfo\"].fillna(\"Desconocido\",inplace =True)\n",
    "\n",
    "test['id_30'] = test['id_30'].map(mean_encoder_id_30)\n",
    "test['id_31'] = test['id_31'].map(lambda x: selector(x, filtro31))\n",
    "test['DeviceInfo'] = test['DeviceInfo'].map(lambda x: selector(x, filtroDI))\n",
    "\n",
    "X_cat = ['ProductCD','card4','id_34','id_15','id_23','id_31','DeviceType','DeviceInfo' ,'card6','P_emaildomain','R_emaildomain','M1','M2','M3','M4','M5','M6','M7','M8','M9']\n",
    "\n",
    "cont_df = test.drop(X_cat,axis =1)\n",
    "cont_df['id_12'] = cont_df['id_12'].replace('Found',1).replace('NotFound',0).astype(float)\n",
    "cont_df['id_13'] = cont_df['id_13'].astype(float).fillna(cont_df['id_13'].mean()) \n",
    "cont_df['id_16'] = cont_df['id_16'].replace('Found',1).replace('NotFound',0).astype(float)\n",
    "cont_df['id_27'] = cont_df['id_27'].replace('Found',1).replace('NotFound',0).astype(float)\n",
    "cont_df['id_28'] = cont_df['id_28'].replace('Found',1).replace('New',0).astype(float)\n",
    "cont_df['id_29'] = cont_df['id_29'].replace('Found',1).replace('NotFound',0).astype(float)\n",
    "cont_df['id_13'] = cont_df['id_13'].astype(float).fillna(cont_df['id_13'].mean()) \n",
    "cont_df['id_33'] = cont_df['id_33'].astype(str).map(lambda x : 'nan' if x.find('nan') != -1 else\n",
    "                                               int(x.split('x')[0])*int(x.split('x')[1])).astype(float)\n",
    "media = cont_df['id_33'].mean()\n",
    "cont_df['id_33'] = cont_df['id_33'] /media\n",
    "cont_df['id_35'] = cont_df['id_35'].replace('T',1).replace('F',0).astype(float)\n",
    "cont_df['id_36'] = cont_df['id_36'].replace('T',1).replace('F',0).astype(float)\n",
    "cont_df['id_37'] = cont_df['id_37'].replace('T',1).replace('F',0).astype(float)\n",
    "cont_df['id_38'] = cont_df['id_38'].replace('T',1).replace('F',0).astype(float)\n",
    "\n",
    "cont_df.apply(lambda x: x.fillna(x.mean(),inplace = True)) \n",
    "cont_df.apply(lambda x: x.fillna(0,inplace = True)) \n",
    "cat_df = test[X_cat].fillna('Others')"
   ]
  },
  {
   "cell_type": "code",
   "execution_count": 19,
   "metadata": {
    "id": "kg4gWoKsUGCB"
   },
   "outputs": [],
   "source": [
    "cont = 0 \n",
    "for columna in X_cat:  \n",
    "    encoded_data = (encoders[cont].transform(cat_df[[columna]].astype(str)).todense().astype(int))\n",
    "    encoded_data = pd.DataFrame(encoded_data, index = cont_df.index ).add_prefix(columna[0:8])\n",
    "    cont_df = pd.concat([cont_df, encoded_data], axis=1)\n",
    "    cont += 1\n",
    "test = cont_df"
   ]
  },
  {
   "cell_type": "code",
   "execution_count": 20,
   "metadata": {
    "colab": {
     "base_uri": "https://localhost:8080/",
     "height": 225
    },
    "id": "isBA09JRmD6p",
    "outputId": "9b404986-d9c0-4448-8216-f5cf4c82f737"
   },
   "outputs": [
    {
     "data": {
      "text/plain": [
       "XGBClassifier(base_score=0.5, booster='gbtree', colsample_bylevel=1,\n",
       "              colsample_bynode=1, colsample_bytree=1, enable_categorical=False,\n",
       "              gamma=3.807233425619809, gpu_id=-1, importance_type=None,\n",
       "              interaction_constraints='', learning_rate=0.300000012,\n",
       "              max_delta_step=0, max_depth=8, min_child_weight=1, missing=nan,\n",
       "              monotone_constraints='()', n_estimators=220, n_jobs=8,\n",
       "              num_parallel_tree=1, predictor='auto', random_state=1,\n",
       "              reg_alpha=5, reg_lambda=0.06118423963716291, scale_pos_weight=1,\n",
       "              subsample=1, tree_method='exact', validate_parameters=1,\n",
       "              verbosity=None)"
      ]
     },
     "execution_count": 20,
     "metadata": {},
     "output_type": "execute_result"
    }
   ],
   "source": [
    "with open('xgboostmodel', 'rb') as file:\n",
    "    model=pickle.load(file)\n",
    "file.close()\n",
    "model"
   ]
  },
  {
   "cell_type": "code",
   "execution_count": 24,
   "metadata": {
    "id": "usqQuqWR-Wvn"
   },
   "outputs": [],
   "source": [
    "sample = pd.read_csv('submit_XGBoost.csv')"
   ]
  },
  {
   "cell_type": "code",
   "execution_count": 25,
   "metadata": {
    "id": "b-tJIAuxmz6G"
   },
   "outputs": [],
   "source": [
    "sample['isFraud'] = 1 - model.predict_proba(test)"
   ]
  },
  {
   "cell_type": "code",
   "execution_count": 26,
   "metadata": {
    "id": "bR5PkAvTkA0L"
   },
   "outputs": [],
   "source": [
    "sample.to_csv('submit_XGBoost.csv', index = False)"
   ]
  },
  {
   "cell_type": "markdown",
   "metadata": {},
   "source": [
    "Submit XGBoost<img src=\"xgsubmit.png\" />"
   ]
  }
 ],
 "metadata": {
  "colab": {
   "collapsed_sections": [],
   "name": "TP3-Parte3.ipynb",
   "provenance": []
  },
  "kernelspec": {
   "display_name": "Python 3",
   "language": "python",
   "name": "python3"
  },
  "language_info": {
   "codemirror_mode": {
    "name": "ipython",
    "version": 3
   },
   "file_extension": ".py",
   "mimetype": "text/x-python",
   "name": "python",
   "nbconvert_exporter": "python",
   "pygments_lexer": "ipython3",
   "version": "3.8.5"
  }
 },
 "nbformat": 4,
 "nbformat_minor": 1
}
