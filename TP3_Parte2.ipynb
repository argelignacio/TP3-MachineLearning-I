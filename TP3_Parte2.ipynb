{
 "cells": [
  {
   "cell_type": "code",
   "execution_count": 1,
   "metadata": {
    "colab": {
     "base_uri": "https://localhost:8080/"
    },
    "id": "hpS4M_Y8UGBS",
    "outputId": "d04a5de6-1df1-4d9f-955c-2edf1be01e30"
   },
   "outputs": [
    {
     "name": "stderr",
     "output_type": "stream",
     "text": [
      "[nltk_data] Downloading package stopwords to\n",
      "[nltk_data]     C:\\Users\\igna-\\AppData\\Roaming\\nltk_data...\n",
      "[nltk_data]   Package stopwords is already up-to-date!\n"
     ]
    }
   ],
   "source": [
    "# importacion general de librerias y de visualizacion (matplotlib y seaborn)\n",
    "import pandas as pd\n",
    "import scipy \n",
    "import numpy as np\n",
    "import random as rd\n",
    "import nltk\n",
    "import pickle\n",
    "import sklearn\n",
    "from sklearn.neighbors import NearestNeighbors\n",
    "from collections import Counter\n",
    "import matplotlib.pyplot as plt\n",
    "import seaborn as sns\n",
    "from datetime import date\n",
    "from datetime import datetime\n",
    "from tqdm import tqdm\n",
    "\n",
    "%matplotlib inline\n",
    "nltk.download('stopwords')\n",
    "\n",
    "plt.style.use('default') # haciendo los graficos un poco mas bonitos en matplotlib\n",
    "#plt.rcParams['figure.figsize'] = (20, 10)\n",
    "\n",
    "sns.set(style=\"whitegrid\") # seteando tipo de grid en seaborn\n",
    "\n",
    "pd.options.display.float_format = '{:20,.2f}'.format # suprimimos la notacion cientifica en los outputs\n",
    "\n",
    "import warnings\n",
    "warnings.filterwarnings('ignore')"
   ]
  },
  {
   "cell_type": "code",
   "execution_count": 2,
   "metadata": {
    "id": "4FTCTxPlUGBb"
   },
   "outputs": [],
   "source": [
    "def timer(start_time=None):\n",
    "    if not start_time:\n",
    "        start_time = datetime.now()\n",
    "        return start_time\n",
    "    elif start_time:\n",
    "        thour, temp_sec = divmod((datetime.now() - start_time).total_seconds(), 3600)\n",
    "        tmin, tsec = divmod(temp_sec, 60)\n",
    "        print('\\n Time taken: %i hours %i minutes and %s seconds.' % (thour, tmin, round(tsec, 2)))"
   ]
  },
  {
   "cell_type": "markdown",
   "metadata": {
    "id": "1hpyEHYy4g-v"
   },
   "source": [
    "# Parte 2"
   ]
  },
  {
   "cell_type": "code",
   "execution_count": 3,
   "metadata": {
    "id": "nSekryWPUGB1"
   },
   "outputs": [],
   "source": [
    "identity = pd.read_csv('train_identity.csv')\n",
    "transaction = pd.read_csv('train_transaction.csv')"
   ]
  },
  {
   "cell_type": "code",
   "execution_count": 4,
   "metadata": {
    "id": "EBP9dbd9UGB1"
   },
   "outputs": [],
   "source": [
    "mergeado = identity.merge(transaction, left_on='TransactionID', right_on='TransactionID',\n",
    "          how = 'right')\n",
    "mergeado.drop(['TransactionID'], axis=1, inplace= True)"
   ]
  },
  {
   "cell_type": "code",
   "execution_count": 5,
   "metadata": {
    "id": "jB5hhnm9UGB1"
   },
   "outputs": [],
   "source": [
    "from sklearn.linear_model import LogisticRegression\n",
    "from sklearn.metrics import classification_report, accuracy_score, roc_auc_score, ConfusionMatrixDisplay, confusion_matrix\n",
    "from sklearn.model_selection import train_test_split\n",
    "from sklearn.preprocessing import OneHotEncoder"
   ]
  },
  {
   "cell_type": "markdown",
   "metadata": {
    "id": "qUj6_kvPUGB3"
   },
   "source": [
    " * Para separar el set de validacion considere que como tenemos un feature que involucra el tiempo, lo mejor es separar con el tiempo ordenado, quedandome con las ultimas transacciones."
   ]
  },
  {
   "cell_type": "markdown",
   "metadata": {
    "id": "DPyKJdMQUGB4"
   },
   "source": [
    "Spliteo el 20% con el delta tiempo mayor"
   ]
  },
  {
   "cell_type": "code",
   "execution_count": 6,
   "metadata": {
    "id": "0hmyZeDUUGB4"
   },
   "outputs": [],
   "source": [
    "test_lenght = int(144233*0.2)\n",
    "mergeado.sort_values(by = \"TransactionDT\")\n",
    "train_lenght = (144233- test_lenght)\n",
    "train = mergeado.iloc[0:train_lenght ,:]\n",
    "test = mergeado.iloc[(144233- test_lenght):144233,:]"
   ]
  },
  {
   "cell_type": "markdown",
   "metadata": {
    "id": "XsYI10NqUGB5"
   },
   "source": [
    "Encodeo el train set y el validation set"
   ]
  },
  {
   "cell_type": "code",
   "execution_count": 7,
   "metadata": {
    "id": "ESBZ2tcSUGB5"
   },
   "outputs": [],
   "source": [
    "train['id_30'] = train['id_30'].astype(str).map(lambda x : 'Windows ' if x.find('Windows') != -1 else \n",
    "                                    'iOS' if x.find('iOS') != -1 else \n",
    "                                    'MacOs ' if x.find('MacOs') != -1 else\n",
    "                                    'Desconocido' if x.find('nan') != -1 or x.find('Desconocido') != -1 else\n",
    "                                    'Mac' if x.find('Mac') != -1 else\n",
    "                                    'Linux' if x.find('Linux') != -1 else\n",
    "                                    'Others'\n",
    "                                   )\n",
    "\n",
    "train['id_31'] = train['id_31'].astype(str).map(lambda x : 'Google' if x.find('chrome') != -1 or x.find('google') != -1 else \n",
    "                                    'Safari' if x.find('safari') != -1 else \n",
    "                                    'Internet Explorer' if x.find('ie') != -1 or x.find('edge') != -1 else\n",
    "                                    'Firefox' if x.find('firefox') != -1 else\n",
    "                                    'Opera' if x.find('opera') != -1 else\n",
    "                                    'Samsung Browser' if x.find('samsung') != -1 or x.find('Samsung') != -1 else\n",
    "                                    'Others'\n",
    "                                   )\n",
    "\n",
    "train.DeviceInfo = train.DeviceInfo.astype(str).map(lambda x : 'Windows' if x.find('Windows') != -1 else \n",
    "                                    'iOS' if x.find('iOS') != -1 else \n",
    "                                    'Mac ' if x.find('Android') != -1 else\n",
    "                                    'rv' if x.find('rv') != -1 else\n",
    "                                    'Mac' if x.find('Mac') != -1 else\n",
    "                                    'SM' if x.find('SM') != -1 else\n",
    "                                    'Others'\n",
    "                                   )\n",
    "\n",
    "\n",
    "\n",
    "X_cat = ['ProductCD','card4','id_34','id_15','id_23','id_30','id_31','DeviceType','DeviceInfo' ,'card6','P_emaildomain','R_emaildomain','M1','M2','M3','M4','M5','M6','M7','M8','M9']\n",
    "\n",
    "cont_df = train.drop(X_cat,axis =1)\n",
    "cont_df['id_12'] = cont_df['id_12'].replace('Found',1).replace('NotFound',0).astype(float)\n",
    "cont_df['id_13'] = cont_df['id_13'].astype(float).fillna(cont_df['id_13'].mean()) \n",
    "cont_df['id_16'] = cont_df['id_16'].replace('Found',1).replace('NotFound',0).astype(float)\n",
    "cont_df['id_27'] = cont_df['id_27'].replace('Found',1).replace('NotFound',0).astype(float)\n",
    "cont_df['id_28'] = cont_df['id_28'].replace('Found',1).replace('New',0).astype(float)\n",
    "cont_df['id_29'] = cont_df['id_29'].replace('Found',1).replace('NotFound',0).astype(float)\n",
    "cont_df['id_13'] = cont_df['id_13'].astype(float).fillna(cont_df['id_13'].mean()) \n",
    "cont_df['id_33'] = cont_df['id_33'].astype(str).map(lambda x : 'nan' if x.find('nan') != -1 else\n",
    "                                               int(x.split('x')[0])*int(x.split('x')[1])).astype(float)\n",
    "media = cont_df['id_33'].mean()\n",
    "cont_df['id_33'] = cont_df['id_33'] /media\n",
    "cont_df['id_35'] = cont_df['id_35'].replace('T',1).replace('F',0).astype(float)\n",
    "cont_df['id_36'] = cont_df['id_36'].replace('T',1).replace('F',0).astype(float)\n",
    "cont_df['id_37'] = cont_df['id_37'].replace('T',1).replace('F',0).astype(float)\n",
    "cont_df['id_38'] = cont_df['id_38'].replace('T',1).replace('F',0).astype(float)\n",
    "\n",
    "cont_df.apply(lambda x: x.fillna(x.mean(),inplace = True)) \n",
    "cont_df.apply(lambda x: x.fillna(0,inplace = True)) \n",
    "cat_df = train[X_cat].fillna('Others')"
   ]
  },
  {
   "cell_type": "code",
   "execution_count": 8,
   "metadata": {
    "id": "H5LKYnSKUGB6"
   },
   "outputs": [],
   "source": [
    "encoders = []\n",
    "for columna in X_cat:    \n",
    "    ohe = OneHotEncoder(handle_unknown = 'ignore')  # drop='first'\n",
    "    encoded_data = (ohe.fit_transform(cat_df[[columna]].astype(str)).todense().astype(int))\n",
    "    encoders.append(ohe)\n",
    "    encoded_data = pd.DataFrame(encoded_data, index = cont_df.index ).add_prefix(columna[0:8])\n",
    "    cont_df = pd.concat([cont_df, encoded_data], axis=1)\n",
    "train = cont_df"
   ]
  },
  {
   "cell_type": "code",
   "execution_count": 9,
   "metadata": {},
   "outputs": [],
   "source": [
    "prom_features = []\n",
    "for columna in train.drop(['isFraud'], axis=1).columns:\n",
    "  prom_features.append(train[columna].mean())"
   ]
  },
  {
   "cell_type": "code",
   "execution_count": 10,
   "metadata": {
    "id": "WlA5nNY1b9Eb"
   },
   "outputs": [],
   "source": [
    "with open('encod_parte2', 'wb') as file:\n",
    "    pickle.dump(encoders, file)"
   ]
  },
  {
   "cell_type": "code",
   "execution_count": 11,
   "metadata": {
    "id": "fF_lPK2DUGB6"
   },
   "outputs": [],
   "source": [
    "test['id_30'] = test['id_30'].astype(str).map(lambda x : 'Windows ' if x.find('Windows') != -1 else \n",
    "                                    'iOS' if x.find('iOS') != -1 else \n",
    "                                    'MacOs ' if x.find('MacOs') != -1 else\n",
    "                                    'Desconocido' if x.find('nan') != -1 or x.find('Desconocido') != -1 else\n",
    "                                    'Mac' if x.find('Mac') != -1 else\n",
    "                                    'Linux' if x.find('Linux') != -1 else\n",
    "                                    'Others'\n",
    "                                   )\n",
    "\n",
    "test['id_31'] = test['id_31'].astype(str).map(lambda x : 'Google' if x.find('chrome') != -1 or x.find('google') != -1 else \n",
    "                                    'Safari' if x.find('safari') != -1 else \n",
    "                                    'Internet Explorer' if x.find('ie') != -1 or x.find('edge') != -1 else\n",
    "                                    'Firefox' if x.find('firefox') != -1 else\n",
    "                                    'Opera' if x.find('opera') != -1 else\n",
    "                                    'Samsung Browser' if x.find('samsung') != -1 or x.find('Samsung') != -1 else\n",
    "                                    'Others'\n",
    "                                   )\n",
    "\n",
    "test.DeviceInfo = test.DeviceInfo.astype(str).map(lambda x : 'Windows' if x.find('Windows') != -1 else \n",
    "                                    'iOS' if x.find('iOS') != -1 else \n",
    "                                    'Mac ' if x.find('Android') != -1 else\n",
    "                                    'rv' if x.find('rv') != -1 else\n",
    "                                    'Mac' if x.find('Mac') != -1 else\n",
    "                                    'SM' if x.find('SM') != -1 else\n",
    "                                    'Others'\n",
    "                                   )\n",
    "\n",
    "\n",
    "\n",
    "X_cat = ['ProductCD','card4','id_34','id_15','id_23','id_30','id_31','DeviceType','DeviceInfo' ,'card6','P_emaildomain','R_emaildomain','M1','M2','M3','M4','M5','M6','M7','M8','M9']\n",
    "\n",
    "cont_df = test.drop(X_cat,axis =1)\n",
    "cont_df['id_12'] = cont_df['id_12'].replace('Found',1).replace('NotFound',0).astype(float)\n",
    "cont_df['id_13'] = cont_df['id_13'].astype(float).fillna(cont_df['id_13'].mean()) \n",
    "cont_df['id_16'] = cont_df['id_16'].replace('Found',1).replace('NotFound',0).astype(float)\n",
    "cont_df['id_27'] = cont_df['id_27'].replace('Found',1).replace('NotFound',0).astype(float)\n",
    "cont_df['id_28'] = cont_df['id_28'].replace('Found',1).replace('New',0).astype(float)\n",
    "cont_df['id_29'] = cont_df['id_29'].replace('Found',1).replace('NotFound',0).astype(float)\n",
    "cont_df['id_13'] = cont_df['id_13'].astype(float).fillna(cont_df['id_13'].mean()) \n",
    "cont_df['id_33'] = cont_df['id_33'].astype(str).map(lambda x : 'nan' if x.find('nan') != -1 else\n",
    "                                               int(x.split('x')[0])*int(x.split('x')[1])).astype(float)\n",
    "media = cont_df['id_33'].mean()\n",
    "cont_df['id_33'] = cont_df['id_33'] /media\n",
    "cont_df['id_35'] = cont_df['id_35'].replace('T',1).replace('F',0).astype(float)\n",
    "cont_df['id_36'] = cont_df['id_36'].replace('T',1).replace('F',0).astype(float)\n",
    "cont_df['id_37'] = cont_df['id_37'].replace('T',1).replace('F',0).astype(float)\n",
    "cont_df['id_38'] = cont_df['id_38'].replace('T',1).replace('F',0).astype(float)\n",
    "\n",
    "cont_df.apply(lambda x: x.fillna(x.mean(),inplace = True)) \n",
    "cont_df.apply(lambda x: x.fillna(0,inplace = True)) \n",
    "cat_df = test[X_cat].fillna('Others')"
   ]
  },
  {
   "cell_type": "code",
   "execution_count": 12,
   "metadata": {
    "id": "wvSWGvvpUGB7"
   },
   "outputs": [],
   "source": [
    "cont = 0 \n",
    "for columna in X_cat:  \n",
    "    encoded_data = (encoders[cont].transform(cat_df[[columna]].astype(str)).todense().astype(int))\n",
    "    encoded_data = pd.DataFrame(encoded_data, index = cont_df.index ).add_prefix(columna[0:8])\n",
    "    cont_df = pd.concat([cont_df, encoded_data], axis=1)\n",
    "    cont += 1\n",
    "test = cont_df"
   ]
  },
  {
   "cell_type": "code",
   "execution_count": 13,
   "metadata": {
    "id": "93eIPrwjUGB7"
   },
   "outputs": [],
   "source": [
    "X_train = train.drop(['isFraud'], axis=1)\n",
    "y_train = train.loc[:, 'isFraud']"
   ]
  },
  {
   "cell_type": "code",
   "execution_count": 14,
   "metadata": {
    "id": "08LGDZQOUGB8"
   },
   "outputs": [],
   "source": [
    "X_test= test.drop(['isFraud'], axis=1)\n",
    "y_test = test.loc[:, 'isFraud']"
   ]
  },
  {
   "cell_type": "code",
   "execution_count": 15,
   "metadata": {
    "id": "hXQsz1o3UGB8"
   },
   "outputs": [],
   "source": [
    "model = LogisticRegression(C=0.5, random_state = 1)"
   ]
  },
  {
   "cell_type": "code",
   "execution_count": 16,
   "metadata": {
    "colab": {
     "base_uri": "https://localhost:8080/"
    },
    "id": "3q5jDFotUGB8",
    "outputId": "0b81dbcf-bd6e-43b5-ed1c-3203509a4768",
    "scrolled": false
   },
   "outputs": [
    {
     "name": "stdout",
     "output_type": "stream",
     "text": [
      "\n",
      " Time taken: 0 hours 0 minutes and 13.33 seconds.\n"
     ]
    }
   ],
   "source": [
    "start_time = timer(None)\n",
    "model.fit(X_train,y_train)\n",
    "timer(start_time)"
   ]
  },
  {
   "cell_type": "code",
   "execution_count": 17,
   "metadata": {
    "colab": {
     "base_uri": "https://localhost:8080/"
    },
    "id": "frlAEeAuUGB9",
    "outputId": "7eb9ce67-47c0-4a07-bce6-0d303c6b5440"
   },
   "outputs": [
    {
     "name": "stdout",
     "output_type": "stream",
     "text": [
      "              precision    recall  f1-score   support\n",
      "\n",
      "           0       0.98      1.00      0.99    112635\n",
      "           1       0.18      0.01      0.02      2752\n",
      "\n",
      "    accuracy                           0.98    115387\n",
      "   macro avg       0.58      0.50      0.50    115387\n",
      "weighted avg       0.96      0.98      0.96    115387\n",
      "\n"
     ]
    }
   ],
   "source": [
    "print(classification_report(y_train, model.predict(X_train)))"
   ]
  },
  {
   "cell_type": "code",
   "execution_count": 18,
   "metadata": {
    "colab": {
     "base_uri": "https://localhost:8080/"
    },
    "id": "1x_yLYh4UGB9",
    "outputId": "a484832b-2fdf-4ce9-dcb1-238a14abcee0"
   },
   "outputs": [
    {
     "data": {
      "text/plain": [
       "0.5886718371944342"
      ]
     },
     "execution_count": 18,
     "metadata": {},
     "output_type": "execute_result"
    }
   ],
   "source": [
    "roc_auc_score(y_test, model.predict_proba(X_test)[:,1])"
   ]
  },
  {
   "cell_type": "code",
   "execution_count": 19,
   "metadata": {
    "colab": {
     "base_uri": "https://localhost:8080/"
    },
    "id": "VJ2XGPDKUGB9",
    "outputId": "28cba66a-36fa-4c0b-9684-a7ee97b0ea57"
   },
   "outputs": [
    {
     "name": "stdout",
     "output_type": "stream",
     "text": [
      "Fitting 3 folds for each of 4 candidates, totalling 12 fits\n"
     ]
    },
    {
     "name": "stderr",
     "output_type": "stream",
     "text": [
      "[Parallel(n_jobs=1)]: Using backend SequentialBackend with 1 concurrent workers.\n",
      "[Parallel(n_jobs=1)]: Done  12 out of  12 | elapsed: 22.4min finished\n"
     ]
    }
   ],
   "source": [
    "# Create first pipeline for base without reducing features.\n",
    "from sklearn.pipeline import Pipeline\n",
    "from sklearn.ensemble import RandomForestClassifier\n",
    "from sklearn.model_selection import RandomizedSearchCV\n",
    "from scipy.stats import uniform\n",
    "\n",
    "logistic = LogisticRegression()\n",
    "\n",
    "# Create regularization penalty space\n",
    "penalty = ['l2']\n",
    "\n",
    "# Create regularization hyperparameter distribution using uniform distribution\n",
    "C = uniform(loc=0, scale=4)\n",
    "\n",
    "solver = ['newton-cg']\n",
    "\n",
    "max_iter = uniform(loc = 0, scale=200)\n",
    "\n",
    "# Create hyperparameter options\n",
    "hyperparameters = dict(C=C, penalty=penalty, max_iter = max_iter, solver = solver)\n",
    "\n",
    "\n",
    "clf = RandomizedSearchCV(logistic ,param_distributions = hyperparameters , scoring = 'roc_auc',  cv = 3,n_iter = 4 , verbose=True, n_jobs=1, random_state = 1)\n",
    "\n",
    "# Fit on data\n",
    "\n",
    "best_clf = clf.fit(X_train, y_train)"
   ]
  },
  {
   "cell_type": "code",
   "execution_count": 20,
   "metadata": {
    "id": "kHJIvdceUGB-"
   },
   "outputs": [],
   "source": [
    "with open('model_backup', 'wb') as model_backup_file:\n",
    "    pickle.dump(best_clf, model_backup_file)"
   ]
  },
  {
   "cell_type": "code",
   "execution_count": 21,
   "metadata": {
    "colab": {
     "base_uri": "https://localhost:8080/"
    },
    "id": "LCbwe1azUGB-",
    "outputId": "341edbce-2c97-4ebb-edc5-7a902966ccab"
   },
   "outputs": [
    {
     "data": {
      "text/plain": [
       "0.8266703095537394"
      ]
     },
     "execution_count": 21,
     "metadata": {},
     "output_type": "execute_result"
    }
   ],
   "source": [
    "roc_auc_score(y_test, best_clf.predict_proba(X_test)[:,1])"
   ]
  },
  {
   "cell_type": "markdown",
   "metadata": {
    "id": "68sS5z02UGB_"
   },
   "source": [
    "Prueba competencia"
   ]
  },
  {
   "cell_type": "code",
   "execution_count": 41,
   "metadata": {
    "id": "XeElafNHZDy7"
   },
   "outputs": [],
   "source": [
    "import pickle\n",
    "with open('model_backup', 'rb') as file:\n",
    "    model=pickle.load(file)\n",
    "file.close()"
   ]
  },
  {
   "cell_type": "code",
   "execution_count": 24,
   "metadata": {
    "id": "nzVeDga7d6uD"
   },
   "outputs": [],
   "source": [
    "with open('encod_parte2', 'rb') as file:\n",
    "    encoders=pickle.load(file)"
   ]
  },
  {
   "cell_type": "code",
   "execution_count": 25,
   "metadata": {
    "id": "Kr0dQJ0bUGB_"
   },
   "outputs": [],
   "source": [
    "#vacio ram\n",
    "mergeado= None\n",
    "train= None\n",
    "cont_df= None\n",
    "test= None\n",
    "model = None\n",
    "X_test= None\n",
    "y_test= None\n",
    "X_train= None\n",
    "y_train= None "
   ]
  },
  {
   "cell_type": "code",
   "execution_count": 33,
   "metadata": {
    "id": "BKg6_GJVUGB_"
   },
   "outputs": [],
   "source": [
    "identity = pd.read_csv('test_identity.csv')\n",
    "transaction = pd.read_csv('test_transaction.csv')"
   ]
  },
  {
   "cell_type": "code",
   "execution_count": 34,
   "metadata": {
    "id": "dk7VT6s1UGB_"
   },
   "outputs": [],
   "source": [
    "mergeado = identity.merge(transaction, left_on='TransactionID', right_on='TransactionID',\n",
    "          how = 'right')\n",
    "mergeado.drop(['TransactionID'], axis=1, inplace= True)"
   ]
  },
  {
   "cell_type": "code",
   "execution_count": 35,
   "metadata": {
    "id": "M6imLNK1UGCA"
   },
   "outputs": [],
   "source": [
    "identity = None\n",
    "transaction =None"
   ]
  },
  {
   "cell_type": "code",
   "execution_count": 36,
   "metadata": {
    "colab": {
     "base_uri": "https://localhost:8080/",
     "height": 513
    },
    "id": "cLRW61VAJC0n",
    "outputId": "1d94af32-9394-4ac0-a226-86b5049a8950"
   },
   "outputs": [
    {
     "data": {
      "text/html": [
       "<div>\n",
       "<style scoped>\n",
       "    .dataframe tbody tr th:only-of-type {\n",
       "        vertical-align: middle;\n",
       "    }\n",
       "\n",
       "    .dataframe tbody tr th {\n",
       "        vertical-align: top;\n",
       "    }\n",
       "\n",
       "    .dataframe thead th {\n",
       "        text-align: right;\n",
       "    }\n",
       "</style>\n",
       "<table border=\"1\" class=\"dataframe\">\n",
       "  <thead>\n",
       "    <tr style=\"text-align: right;\">\n",
       "      <th></th>\n",
       "      <th>id_01</th>\n",
       "      <th>id_02</th>\n",
       "      <th>id_03</th>\n",
       "      <th>id_04</th>\n",
       "      <th>id_05</th>\n",
       "      <th>id_06</th>\n",
       "      <th>id_07</th>\n",
       "      <th>id_08</th>\n",
       "      <th>id_09</th>\n",
       "      <th>id_10</th>\n",
       "      <th>...</th>\n",
       "      <th>V330</th>\n",
       "      <th>V331</th>\n",
       "      <th>V332</th>\n",
       "      <th>V333</th>\n",
       "      <th>V334</th>\n",
       "      <th>V335</th>\n",
       "      <th>V336</th>\n",
       "      <th>V337</th>\n",
       "      <th>V338</th>\n",
       "      <th>V339</th>\n",
       "    </tr>\n",
       "  </thead>\n",
       "  <tbody>\n",
       "    <tr>\n",
       "      <th>0</th>\n",
       "      <td>nan</td>\n",
       "      <td>nan</td>\n",
       "      <td>nan</td>\n",
       "      <td>nan</td>\n",
       "      <td>nan</td>\n",
       "      <td>nan</td>\n",
       "      <td>nan</td>\n",
       "      <td>nan</td>\n",
       "      <td>nan</td>\n",
       "      <td>nan</td>\n",
       "      <td>...</td>\n",
       "      <td>nan</td>\n",
       "      <td>nan</td>\n",
       "      <td>nan</td>\n",
       "      <td>nan</td>\n",
       "      <td>nan</td>\n",
       "      <td>nan</td>\n",
       "      <td>nan</td>\n",
       "      <td>nan</td>\n",
       "      <td>nan</td>\n",
       "      <td>nan</td>\n",
       "    </tr>\n",
       "    <tr>\n",
       "      <th>1</th>\n",
       "      <td>nan</td>\n",
       "      <td>nan</td>\n",
       "      <td>nan</td>\n",
       "      <td>nan</td>\n",
       "      <td>nan</td>\n",
       "      <td>nan</td>\n",
       "      <td>nan</td>\n",
       "      <td>nan</td>\n",
       "      <td>nan</td>\n",
       "      <td>nan</td>\n",
       "      <td>...</td>\n",
       "      <td>nan</td>\n",
       "      <td>nan</td>\n",
       "      <td>nan</td>\n",
       "      <td>nan</td>\n",
       "      <td>nan</td>\n",
       "      <td>nan</td>\n",
       "      <td>nan</td>\n",
       "      <td>nan</td>\n",
       "      <td>nan</td>\n",
       "      <td>nan</td>\n",
       "    </tr>\n",
       "    <tr>\n",
       "      <th>2</th>\n",
       "      <td>nan</td>\n",
       "      <td>nan</td>\n",
       "      <td>nan</td>\n",
       "      <td>nan</td>\n",
       "      <td>nan</td>\n",
       "      <td>nan</td>\n",
       "      <td>nan</td>\n",
       "      <td>nan</td>\n",
       "      <td>nan</td>\n",
       "      <td>nan</td>\n",
       "      <td>...</td>\n",
       "      <td>nan</td>\n",
       "      <td>nan</td>\n",
       "      <td>nan</td>\n",
       "      <td>nan</td>\n",
       "      <td>nan</td>\n",
       "      <td>nan</td>\n",
       "      <td>nan</td>\n",
       "      <td>nan</td>\n",
       "      <td>nan</td>\n",
       "      <td>nan</td>\n",
       "    </tr>\n",
       "    <tr>\n",
       "      <th>3</th>\n",
       "      <td>nan</td>\n",
       "      <td>nan</td>\n",
       "      <td>nan</td>\n",
       "      <td>nan</td>\n",
       "      <td>nan</td>\n",
       "      <td>nan</td>\n",
       "      <td>nan</td>\n",
       "      <td>nan</td>\n",
       "      <td>nan</td>\n",
       "      <td>nan</td>\n",
       "      <td>...</td>\n",
       "      <td>nan</td>\n",
       "      <td>nan</td>\n",
       "      <td>nan</td>\n",
       "      <td>nan</td>\n",
       "      <td>nan</td>\n",
       "      <td>nan</td>\n",
       "      <td>nan</td>\n",
       "      <td>nan</td>\n",
       "      <td>nan</td>\n",
       "      <td>nan</td>\n",
       "    </tr>\n",
       "    <tr>\n",
       "      <th>4</th>\n",
       "      <td>nan</td>\n",
       "      <td>nan</td>\n",
       "      <td>nan</td>\n",
       "      <td>nan</td>\n",
       "      <td>nan</td>\n",
       "      <td>nan</td>\n",
       "      <td>nan</td>\n",
       "      <td>nan</td>\n",
       "      <td>nan</td>\n",
       "      <td>nan</td>\n",
       "      <td>...</td>\n",
       "      <td>nan</td>\n",
       "      <td>nan</td>\n",
       "      <td>nan</td>\n",
       "      <td>nan</td>\n",
       "      <td>nan</td>\n",
       "      <td>nan</td>\n",
       "      <td>nan</td>\n",
       "      <td>nan</td>\n",
       "      <td>nan</td>\n",
       "      <td>nan</td>\n",
       "    </tr>\n",
       "    <tr>\n",
       "      <th>...</th>\n",
       "      <td>...</td>\n",
       "      <td>...</td>\n",
       "      <td>...</td>\n",
       "      <td>...</td>\n",
       "      <td>...</td>\n",
       "      <td>...</td>\n",
       "      <td>...</td>\n",
       "      <td>...</td>\n",
       "      <td>...</td>\n",
       "      <td>...</td>\n",
       "      <td>...</td>\n",
       "      <td>...</td>\n",
       "      <td>...</td>\n",
       "      <td>...</td>\n",
       "      <td>...</td>\n",
       "      <td>...</td>\n",
       "      <td>...</td>\n",
       "      <td>...</td>\n",
       "      <td>...</td>\n",
       "      <td>...</td>\n",
       "      <td>...</td>\n",
       "    </tr>\n",
       "    <tr>\n",
       "      <th>506686</th>\n",
       "      <td>nan</td>\n",
       "      <td>nan</td>\n",
       "      <td>nan</td>\n",
       "      <td>nan</td>\n",
       "      <td>nan</td>\n",
       "      <td>nan</td>\n",
       "      <td>nan</td>\n",
       "      <td>nan</td>\n",
       "      <td>nan</td>\n",
       "      <td>nan</td>\n",
       "      <td>...</td>\n",
       "      <td>nan</td>\n",
       "      <td>nan</td>\n",
       "      <td>nan</td>\n",
       "      <td>nan</td>\n",
       "      <td>nan</td>\n",
       "      <td>nan</td>\n",
       "      <td>nan</td>\n",
       "      <td>nan</td>\n",
       "      <td>nan</td>\n",
       "      <td>nan</td>\n",
       "    </tr>\n",
       "    <tr>\n",
       "      <th>506687</th>\n",
       "      <td>-45.00</td>\n",
       "      <td>266,704.00</td>\n",
       "      <td>nan</td>\n",
       "      <td>nan</td>\n",
       "      <td>-3.00</td>\n",
       "      <td>-10.00</td>\n",
       "      <td>nan</td>\n",
       "      <td>nan</td>\n",
       "      <td>nan</td>\n",
       "      <td>nan</td>\n",
       "      <td>...</td>\n",
       "      <td>nan</td>\n",
       "      <td>nan</td>\n",
       "      <td>nan</td>\n",
       "      <td>nan</td>\n",
       "      <td>nan</td>\n",
       "      <td>nan</td>\n",
       "      <td>nan</td>\n",
       "      <td>nan</td>\n",
       "      <td>nan</td>\n",
       "      <td>nan</td>\n",
       "    </tr>\n",
       "    <tr>\n",
       "      <th>506688</th>\n",
       "      <td>nan</td>\n",
       "      <td>nan</td>\n",
       "      <td>nan</td>\n",
       "      <td>nan</td>\n",
       "      <td>nan</td>\n",
       "      <td>nan</td>\n",
       "      <td>nan</td>\n",
       "      <td>nan</td>\n",
       "      <td>nan</td>\n",
       "      <td>nan</td>\n",
       "      <td>...</td>\n",
       "      <td>nan</td>\n",
       "      <td>nan</td>\n",
       "      <td>nan</td>\n",
       "      <td>nan</td>\n",
       "      <td>nan</td>\n",
       "      <td>nan</td>\n",
       "      <td>nan</td>\n",
       "      <td>nan</td>\n",
       "      <td>nan</td>\n",
       "      <td>nan</td>\n",
       "    </tr>\n",
       "    <tr>\n",
       "      <th>506689</th>\n",
       "      <td>nan</td>\n",
       "      <td>nan</td>\n",
       "      <td>nan</td>\n",
       "      <td>nan</td>\n",
       "      <td>nan</td>\n",
       "      <td>nan</td>\n",
       "      <td>nan</td>\n",
       "      <td>nan</td>\n",
       "      <td>nan</td>\n",
       "      <td>nan</td>\n",
       "      <td>...</td>\n",
       "      <td>nan</td>\n",
       "      <td>nan</td>\n",
       "      <td>nan</td>\n",
       "      <td>nan</td>\n",
       "      <td>nan</td>\n",
       "      <td>nan</td>\n",
       "      <td>nan</td>\n",
       "      <td>nan</td>\n",
       "      <td>nan</td>\n",
       "      <td>nan</td>\n",
       "    </tr>\n",
       "    <tr>\n",
       "      <th>506690</th>\n",
       "      <td>-10.00</td>\n",
       "      <td>692,090.00</td>\n",
       "      <td>0.00</td>\n",
       "      <td>0.00</td>\n",
       "      <td>0.00</td>\n",
       "      <td>0.00</td>\n",
       "      <td>nan</td>\n",
       "      <td>nan</td>\n",
       "      <td>0.00</td>\n",
       "      <td>0.00</td>\n",
       "      <td>...</td>\n",
       "      <td>nan</td>\n",
       "      <td>nan</td>\n",
       "      <td>nan</td>\n",
       "      <td>nan</td>\n",
       "      <td>nan</td>\n",
       "      <td>nan</td>\n",
       "      <td>nan</td>\n",
       "      <td>nan</td>\n",
       "      <td>nan</td>\n",
       "      <td>nan</td>\n",
       "    </tr>\n",
       "  </tbody>\n",
       "</table>\n",
       "<p>506691 rows × 432 columns</p>\n",
       "</div>"
      ],
      "text/plain": [
       "                      id_01                id_02                id_03  \\\n",
       "0                       nan                  nan                  nan   \n",
       "1                       nan                  nan                  nan   \n",
       "2                       nan                  nan                  nan   \n",
       "3                       nan                  nan                  nan   \n",
       "4                       nan                  nan                  nan   \n",
       "...                     ...                  ...                  ...   \n",
       "506686                  nan                  nan                  nan   \n",
       "506687               -45.00           266,704.00                  nan   \n",
       "506688                  nan                  nan                  nan   \n",
       "506689                  nan                  nan                  nan   \n",
       "506690               -10.00           692,090.00                 0.00   \n",
       "\n",
       "                      id_04                id_05                id_06  \\\n",
       "0                       nan                  nan                  nan   \n",
       "1                       nan                  nan                  nan   \n",
       "2                       nan                  nan                  nan   \n",
       "3                       nan                  nan                  nan   \n",
       "4                       nan                  nan                  nan   \n",
       "...                     ...                  ...                  ...   \n",
       "506686                  nan                  nan                  nan   \n",
       "506687                  nan                -3.00               -10.00   \n",
       "506688                  nan                  nan                  nan   \n",
       "506689                  nan                  nan                  nan   \n",
       "506690                 0.00                 0.00                 0.00   \n",
       "\n",
       "                      id_07                id_08                id_09  \\\n",
       "0                       nan                  nan                  nan   \n",
       "1                       nan                  nan                  nan   \n",
       "2                       nan                  nan                  nan   \n",
       "3                       nan                  nan                  nan   \n",
       "4                       nan                  nan                  nan   \n",
       "...                     ...                  ...                  ...   \n",
       "506686                  nan                  nan                  nan   \n",
       "506687                  nan                  nan                  nan   \n",
       "506688                  nan                  nan                  nan   \n",
       "506689                  nan                  nan                  nan   \n",
       "506690                  nan                  nan                 0.00   \n",
       "\n",
       "                      id_10  ...                 V330                 V331  \\\n",
       "0                       nan  ...                  nan                  nan   \n",
       "1                       nan  ...                  nan                  nan   \n",
       "2                       nan  ...                  nan                  nan   \n",
       "3                       nan  ...                  nan                  nan   \n",
       "4                       nan  ...                  nan                  nan   \n",
       "...                     ...  ...                  ...                  ...   \n",
       "506686                  nan  ...                  nan                  nan   \n",
       "506687                  nan  ...                  nan                  nan   \n",
       "506688                  nan  ...                  nan                  nan   \n",
       "506689                  nan  ...                  nan                  nan   \n",
       "506690                 0.00  ...                  nan                  nan   \n",
       "\n",
       "                       V332                 V333                 V334  \\\n",
       "0                       nan                  nan                  nan   \n",
       "1                       nan                  nan                  nan   \n",
       "2                       nan                  nan                  nan   \n",
       "3                       nan                  nan                  nan   \n",
       "4                       nan                  nan                  nan   \n",
       "...                     ...                  ...                  ...   \n",
       "506686                  nan                  nan                  nan   \n",
       "506687                  nan                  nan                  nan   \n",
       "506688                  nan                  nan                  nan   \n",
       "506689                  nan                  nan                  nan   \n",
       "506690                  nan                  nan                  nan   \n",
       "\n",
       "                       V335                 V336                 V337  \\\n",
       "0                       nan                  nan                  nan   \n",
       "1                       nan                  nan                  nan   \n",
       "2                       nan                  nan                  nan   \n",
       "3                       nan                  nan                  nan   \n",
       "4                       nan                  nan                  nan   \n",
       "...                     ...                  ...                  ...   \n",
       "506686                  nan                  nan                  nan   \n",
       "506687                  nan                  nan                  nan   \n",
       "506688                  nan                  nan                  nan   \n",
       "506689                  nan                  nan                  nan   \n",
       "506690                  nan                  nan                  nan   \n",
       "\n",
       "                       V338                 V339  \n",
       "0                       nan                  nan  \n",
       "1                       nan                  nan  \n",
       "2                       nan                  nan  \n",
       "3                       nan                  nan  \n",
       "4                       nan                  nan  \n",
       "...                     ...                  ...  \n",
       "506686                  nan                  nan  \n",
       "506687                  nan                  nan  \n",
       "506688                  nan                  nan  \n",
       "506689                  nan                  nan  \n",
       "506690                  nan                  nan  \n",
       "\n",
       "[506691 rows x 432 columns]"
      ]
     },
     "execution_count": 36,
     "metadata": {},
     "output_type": "execute_result"
    }
   ],
   "source": [
    "for c in mergeado.columns:\n",
    "  if c[:2] == 'id':\n",
    "    mergeado.rename(columns = {c:c.replace('-','_')},inplace= True)\n",
    "mergeado"
   ]
  },
  {
   "cell_type": "code",
   "execution_count": 37,
   "metadata": {
    "id": "XsyU5SCzUGCA"
   },
   "outputs": [],
   "source": [
    "mergeado['id_30'] = mergeado['id_30'].astype(str).map(lambda x : 'Windows ' if x.find('Windows') != -1 else \n",
    "                                    'iOS' if x.find('iOS') != -1 else \n",
    "                                    'MacOs ' if x.find('MacOs') != -1 else\n",
    "                                    'Desconocido' if x.find('nan') != -1 or x.find('Desconocido') != -1 else\n",
    "                                    'Mac' if x.find('Mac') != -1 else\n",
    "                                    'Linux' if x.find('Linux') != -1 else\n",
    "                                    'Others'\n",
    "                                   )\n",
    "\n",
    "mergeado.id_31 = mergeado['id_31'].astype(str).map(lambda x : 'Google' if x.find('chrome') != -1 or x.find('google') != -1 else \n",
    "                                    'Safari' if x.find('safari') != -1 else \n",
    "                                    'Internet Explorer' if x.find('ie') != -1 or x.find('edge') != -1 else\n",
    "                                    'Firefox' if x.find('firefox') != -1 else\n",
    "                                    'Opera' if x.find('opera') != -1 else\n",
    "                                    'Samsung Browser' if x.find('samsung') != -1 or x.find('Samsung') != -1 else\n",
    "                                    'Others'\n",
    "                                   )\n",
    "\n",
    "mergeado.DeviceInfo = mergeado['DeviceInfo'].astype(str).map(lambda x : 'Windows' if x.find('Windows') != -1 else \n",
    "                                    'iOS' if x.find('iOS') != -1 else \n",
    "                                    'Mac ' if x.find('Android') != -1 else\n",
    "                                    'rv' if x.find('rv') != -1 else\n",
    "                                    'Mac' if x.find('Mac') != -1 else\n",
    "                                    'SM' if x.find('SM') != -1 else\n",
    "                                    'Others'\n",
    "                                   )\n",
    "\n",
    "\n",
    "\n",
    "X_cat = ['ProductCD','card4','id_34','id_15','id_23','id_30','id_31','DeviceType','DeviceInfo' ,'card6','P_emaildomain','R_emaildomain','M1','M2','M3','M4','M5','M6','M7','M8','M9']\n",
    "\n",
    "cont_df = mergeado.drop(X_cat,axis =1)\n",
    "cont_df['id_12'] = cont_df['id_12'].replace('Found',1).replace('NotFound',0).astype(float)\n",
    "cont_df['id_13'] = cont_df['id_13'].astype(float).fillna(cont_df['id_13'].mean()) \n",
    "cont_df['id_16'] = cont_df['id_16'].replace('Found',1).replace('NotFound',0).astype(float)\n",
    "cont_df['id_27'] = cont_df['id_27'].replace('Found',1).replace('NotFound',0).astype(float)\n",
    "cont_df['id_28'] = cont_df['id_28'].replace('Found',1).replace('New',0).astype(float)\n",
    "cont_df['id_29'] = cont_df['id_29'].replace('Found',1).replace('NotFound',0).astype(float)\n",
    "cont_df['id_13'] = cont_df['id_13'].astype(float).fillna(cont_df['id_13'].mean()) \n",
    "cont_df.id_33 = cont_df.id_33.astype(str).map(lambda x : 'nan' if x.find('nan') != -1 else\n",
    "                                               int(x.split('x')[0])*int(x.split('x')[1])).astype(float)\n",
    "media = cont_df.id_33.mean()\n",
    "cont_df.id_33 = cont_df.id_33 /media\n",
    "cont_df['id_35'] = cont_df['id_35'].replace('T',1).replace('F',0).astype(float)\n",
    "cont_df['id_36'] = cont_df['id_36'].replace('T',1).replace('F',0).astype(float)\n",
    "cont_df['id_37'] = cont_df['id_37'].replace('T',1).replace('F',0).astype(float)\n",
    "cont_df['id_38'] = cont_df['id_38'].replace('T',1).replace('F',0).astype(float)\n",
    "\n",
    "cont_df.apply(lambda x: x.fillna(x.mean(),inplace = True)) \n",
    "cont_df.apply(lambda x: x.fillna(0,inplace = True)) \n",
    "cat_df = mergeado[X_cat].fillna('Others')"
   ]
  },
  {
   "cell_type": "code",
   "execution_count": 38,
   "metadata": {
    "id": "kg4gWoKsUGCB"
   },
   "outputs": [],
   "source": [
    "cont = 0 \n",
    "for columna in X_cat:  \n",
    "    encoded_data = (encoders[cont].transform(cat_df[[columna]].astype(str)).todense().astype(int))\n",
    "    encoded_data = pd.DataFrame(encoded_data, index = cont_df.index ).add_prefix(columna[0:5])\n",
    "    cont_df = pd.concat([cont_df, encoded_data], axis=1)\n",
    "    cont += 1\n",
    "test = cont_df"
   ]
  },
  {
   "cell_type": "code",
   "execution_count": 39,
   "metadata": {},
   "outputs": [],
   "source": [
    "sample = pd.read_csv('sample_submission.csv')"
   ]
  },
  {
   "cell_type": "code",
   "execution_count": 42,
   "metadata": {
    "id": "yLVIg6t9UGCC"
   },
   "outputs": [],
   "source": [
    "sample['isFraud'] = 1 - model.predict_proba(test)"
   ]
  },
  {
   "cell_type": "code",
   "execution_count": 43,
   "metadata": {
    "colab": {
     "base_uri": "https://localhost:8080/",
     "height": 17
    },
    "id": "bR5PkAvTkA0L",
    "outputId": "8b8f6ef8-dd67-41ab-cc4d-3b01155e4949"
   },
   "outputs": [],
   "source": [
    "sample.to_csv('submit.csv', index = False)"
   ]
  },
  {
   "cell_type": "markdown",
   "metadata": {
    "id": "mtJdcbtIoWqi"
   },
   "source": [
    "Resultado del submit a Kaggle\n"
   ]
  },
  {
   "cell_type": "markdown",
   "metadata": {
    "id": "IRfu8eF7oQzJ"
   },
   "source": [
    "![imagen.png](data:image/png;base64,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)"
   ]
  },
  {
   "cell_type": "markdown",
   "metadata": {},
   "source": [
    "# Features mas importantes"
   ]
  },
  {
   "cell_type": "code",
   "execution_count": 44,
   "metadata": {},
   "outputs": [
    {
     "data": {
      "image/png": "[encoded data removed]",
      "text/plain": [
       "<Figure size 640x480 with 1 Axes>"
      ]
     },
     "metadata": {},
     "output_type": "display_data"
    }
   ],
   "source": [
    "# get importance\n",
    "importance = model.best_estimator_.coef_[0] / prom_features\n",
    "# summarize feature importance\n",
    "importance = np.asarray([abs(number) for number in importance])\n",
    "ind = (np.argpartition(importance, -6)[-6:])\n",
    "importance_top6 = importance[ind]\n",
    "indices = test.columns[ind]\n",
    "data = {'index': indices, 'importance': importance_top6}\n",
    "df = pd.DataFrame(data)\n",
    "# plot feature importance\n",
    "sns.barplot(x=\"index\", y=\"importance\", data=df)\n",
    "plt.show()"
   ]
  }
 ],
 "metadata": {
  "colab": {
   "collapsed_sections": [],
   "name": "TP3-Parte2.ipynb",
   "provenance": []
  },
  "kernelspec": {
   "display_name": "Python 3",
   "language": "python",
   "name": "python3"
  },
  "language_info": {
   "codemirror_mode": {
    "name": "ipython",
    "version": 3
   },
   "file_extension": ".py",
   "mimetype": "text/x-python",
   "name": "python",
   "nbconvert_exporter": "python",
   "pygments_lexer": "ipython3",
   "version": "3.8.5"
  }
 },
 "nbformat": 4,
 "nbformat_minor": 1
}
